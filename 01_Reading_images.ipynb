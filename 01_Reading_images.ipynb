{
 "cells": [
  {
   "cell_type": "markdown",
   "metadata": {},
   "source": [
    "# Images: A short intro\n",
    "\n",
    "- Images are nothing but arrays of pixel values, hence `numpy` plays an important role in image processing or analysis.\n",
    "\n",
    "\n",
    "- Color images have 3 channels, **RGB** : Red, Green, Blue and thus have an array shape as $(m,n,3)$ where $m$ is the length and $n$ is the width of the image\n",
    "\n",
    "\n",
    "- Gray scale images have only 1 channel.\n",
    "\n",
    "\n",
    "\n",
    "- Binary images are simply made up of True and False i.e., 0 and 1.\n",
    "\n",
    "\n",
    "- The TOP-LEFT corner of the image has co-ordinates (0,0)\n",
    "\n",
    "# Reading Images\n",
    "\n",
    "## 1. Using Pillow"
   ]
  },
  {
   "cell_type": "code",
   "execution_count": null,
   "metadata": {},
   "outputs": [],
   "source": [
    "from PIL import Image \n",
    "import numpy as np  "
   ]
  },
  {
   "cell_type": "markdown",
   "metadata": {},
   "source": [
    "Since PIL doesn't read images as numpy array we always import `numpy` with `PIL.Image` so as to covert image into an array for further operations. Below is a small demonstration for proof. "
   ]
  },
  {
   "cell_type": "code",
   "execution_count": null,
   "metadata": {},
   "outputs": [],
   "source": [
    "import os\n",
    "os.getcwd()"
   ]
  },
  {
   "cell_type": "code",
   "execution_count": null,
   "metadata": {},
   "outputs": [],
   "source": [
    "# Read image \n",
    "img = Image.open(\"./images/test_image.jpg\") #Not a numpy array\n",
    "print(type(img))"
   ]
  },
  {
   "cell_type": "markdown",
   "metadata": {},
   "source": [
    "It can be seen that the image is not read as array, although we can still see the image using `.show()`"
   ]
  },
  {
   "cell_type": "code",
   "execution_count": null,
   "metadata": {},
   "outputs": [],
   "source": [
    "# Output Images \n",
    "img.show() "
   ]
  },
  {
   "cell_type": "markdown",
   "metadata": {},
   "source": [
    "We can also check the format of our image"
   ]
  },
  {
   "cell_type": "code",
   "execution_count": null,
   "metadata": {},
   "outputs": [],
   "source": [
    "# prints format of image \n",
    "print(img.format)"
   ]
  },
  {
   "cell_type": "markdown",
   "metadata": {},
   "source": [
    "Lets now convert our image to array."
   ]
  },
  {
   "cell_type": "code",
   "execution_count": null,
   "metadata": {},
   "outputs": [],
   "source": [
    "#PIL is not by default numpy array but can convert PIL image to numpy array. \n",
    "img1 = np.asarray(img)\n",
    "print(type(img1))"
   ]
  },
  {
   "cell_type": "markdown",
   "metadata": {},
   "source": [
    "## 2. Using matplotlib"
   ]
  },
  {
   "cell_type": "code",
   "execution_count": null,
   "metadata": {},
   "outputs": [],
   "source": [
    "import matplotlib.image as mpimg \n",
    "import matplotlib.pyplot as plt "
   ]
  },
  {
   "cell_type": "code",
   "execution_count": null,
   "metadata": {},
   "outputs": [],
   "source": [
    "img = mpimg.imread(\"images/test_image.jpg\")  #this is a numpy array\n",
    "print(type(img))\n",
    "print(img)\n",
    "\n",
    "print(img.shape)\n",
    "\n",
    "plt.imshow(img)\n",
    "plt.colorbar()   #Puts a color bar next to the image. "
   ]
  },
  {
   "cell_type": "markdown",
   "metadata": {},
   "source": [
    "## 3. Using Skimage"
   ]
  },
  {
   "cell_type": "code",
   "execution_count": null,
   "metadata": {
    "scrolled": true
   },
   "outputs": [],
   "source": [
    "from skimage import io\n",
    "import matplotlib.pyplot as plt #to see the image\n",
    "\n",
    "\n",
    "image = io.imread(\"images/test_image.jpg\")\n",
    "\n",
    "print(image)"
   ]
  },
  {
   "cell_type": "code",
   "execution_count": null,
   "metadata": {},
   "outputs": [],
   "source": [
    "plt.imshow(image)\n",
    "plt.colorbar()"
   ]
  },
  {
   "cell_type": "markdown",
   "metadata": {},
   "source": [
    "## 4. Using OpenCV"
   ]
  },
  {
   "cell_type": "code",
   "execution_count": null,
   "metadata": {},
   "outputs": [],
   "source": [
    "import cv2\n",
    "import nsvision as nv\n",
    "\n",
    "grey_img = cv2.imread(\"images/test_image.jpg\", 0)\n",
    "color_img = cv2.imread(\"images/test_image.jpg\", 1)\n",
    "\n",
    "#images opened using cv2 are numpy arrays\n",
    "print(type(grey_img)) \n",
    "print(type(color_img)) "
   ]
  },
  {
   "cell_type": "markdown",
   "metadata": {},
   "source": [
    "**NOTE:** \n",
    "\n",
    "1. An important thing to keep in mind for `cv2` is while using `cv2.imshow()`. If you only use `cv2.imshow()` then most likely your computer will hang or the window displaying image will not respond. \n",
    "\n",
    "    That's because it is mandatory to tell: For how long you want the image window to remain open ? For example, `cv2.waitKey(1000)` will keep the image window open for 1000ms. If you want to keep the window ope for an infinite amount of time (i.e., till the user presses a key), you should use `cv2.waitKey(0)`.\n",
    "    \n",
    "    \n",
    "\n",
    "2. The sequence of channels when a color image is read using `cv2` is opposite of previous methods i.e, `cv2` read image as **BGR** : Blue, Green, Red. Hence the first column in the image as array represent the value of blue channel in the particular pixel and not the Red.\n",
    "\n",
    "3. If you read an image that doesn't physically exist in the directory, `cv2` will not raise any error. So it is necessary to cross-check the name or path of image manually."
   ]
  },
  {
   "cell_type": "code",
   "execution_count": null,
   "metadata": {},
   "outputs": [],
   "source": [
    "cv2.imshow(\"pic\", grey_img)\n",
    "cv2.imshow(\"color pic\", color_img)\n",
    "\n",
    "# Maintain output window unt0il \n",
    "# user presses a key or 1000 ms (1s)\n",
    "cv2.waitKey(0)          \n",
    "\n",
    "#destroys all windows created\n",
    "cv2.destroyAllWindows() "
   ]
  },
  {
   "cell_type": "code",
   "execution_count": null,
   "metadata": {},
   "outputs": [],
   "source": [
    "import matplotlib.pyplot as plt\n",
    "plt.imshow(color_img)  "
   ]
  },
  {
   "cell_type": "markdown",
   "metadata": {},
   "source": [
    "Notice the plot, OpenCV represents RGB images as multi-dimensional NumPy arrays, but as BGR. However, we can convert the images from BGR to RGB"
   ]
  },
  {
   "cell_type": "code",
   "execution_count": null,
   "metadata": {},
   "outputs": [],
   "source": [
    "converted_img = cv2.cvtColor(color_img, cv2.COLOR_BGR2RGB)\n",
    "\n",
    "plt.imshow(converted_img)"
   ]
  },
  {
   "cell_type": "markdown",
   "metadata": {},
   "source": [
    "# Reading image as grayscale\n",
    "\n",
    "You can import images in color, grey scale or unchanged usingindividual commands \n",
    "\n",
    "- `cv2.IMREAD_COLOR` : Loads a color image. Any transparency of image will be neglected. It is the default flag.\n",
    "\n",
    "\n",
    "- `cv2.IMREAD_GRAYSCALE` : Loads image in grayscale mode\n",
    "\n",
    "\n",
    "- `cv2.IMREAD_UNCHANGED` : Loads image as such including alpha channel\n",
    "\n",
    "\n",
    "Instead of these three flags, you can simply pass integers `1`, `0` or `-1` respectively."
   ]
  },
  {
   "cell_type": "code",
   "execution_count": null,
   "metadata": {},
   "outputs": [],
   "source": [
    "import cv2\n",
    "\n",
    "grey_img = cv2.imread(\"images/test_image.jpg\", 0)\n",
    "color_img = cv2.imread(\"images/test_image.jpg\", 1)\n",
    "\n",
    "#images opened using cv2 are numpy arrays\n",
    "print(type(grey_img)) \n",
    "print(type(color_img)) \n",
    "\n",
    "# Use the function cv2.imshow() to display an image in a window. \n",
    "# First argument is the window name which is a string. second argument is our image. \n",
    "\n",
    "cv2.imshow(\"pic\", grey_img)\n",
    "cv2.imshow(\"color pic\", color_img)\n",
    "\n",
    "# Maintain output window until \n",
    "# user presses a key or 1000 ms (1s)\n",
    "cv2.waitKey(0)          \n",
    "\n",
    "#destroys all windows created\n",
    "cv2.destroyAllWindows() "
   ]
  },
  {
   "cell_type": "markdown",
   "metadata": {},
   "source": [
    "# Reading multiple images at once"
   ]
  },
  {
   "cell_type": "markdown",
   "metadata": {},
   "source": [
    "The `glob` module finds all the path names matching a specified pattern according to the rules used by the Unix shell. The `glob.glob()` returns the list of files with their full path "
   ]
  },
  {
   "cell_type": "code",
   "execution_count": null,
   "metadata": {},
   "outputs": [],
   "source": [
    "#import the library opencv\n",
    "import cv2\n",
    "import glob\n",
    "\n",
    "#select the path\n",
    "path = \"images/test_images/aeroplane/*.*\"\n",
    "for file in glob.glob(path):\n",
    "    print(file)"
   ]
  },
  {
   "cell_type": "markdown",
   "metadata": {},
   "source": [
    "We can see that the full path of all the images in 'aeroplane' folder are well obtained by 'file' variable. Now, we can read each file since we have the full path"
   ]
  },
  {
   "cell_type": "code",
   "execution_count": null,
   "metadata": {},
   "outputs": [],
   "source": [
    "#import the library opencv\n",
    "import cv2\n",
    "import glob\n",
    "\n",
    "#select the path\n",
    "path = \"images/test_images/aeroplane/*.*\"\n",
    "for file in glob.glob(path):\n",
    "    print(\"\\nImage Path:\",file,\"\\nImage Array:\\n\")\n",
    "    a= cv2.imread(file)  #read each file and store in a\n",
    "    print(a)  #print numpy arrays for each file"
   ]
  },
  {
   "cell_type": "markdown",
   "metadata": {},
   "source": [
    "# Some non-traditional Image formats\n",
    "\n",
    "### Reading OME-TIFF using apeer_ometiff_library\n",
    "\n",
    "OME-TIFF has tiff and metada (as XML) embedded and the Image is a 5D array."
   ]
  },
  {
   "cell_type": "code",
   "execution_count": null,
   "metadata": {},
   "outputs": [],
   "source": [
    "# # pip install apeer-ometiff-library\n",
    " \n",
    "# import apeer_ometiff_library\n",
    "\n",
    "# from apeer_ometiff_library import io  #Use apeer.com free platform for image processing in the cloud\n",
    "\n",
    "# (pic2, omexml) = io.read_ometiff(\"images/test_image.ome.tif\")  #Unwrap image and embedded xml metadata\n",
    "# print (pic2.shape)   #to verify the shape of the array\n",
    "# print(pic2)\n",
    "\n",
    "# print(omexml)"
   ]
  },
  {
   "cell_type": "markdown",
   "metadata": {},
   "source": [
    "### Reading CZI files\n",
    "\n",
    "For more info on .czi format visit: https://pypi.org/project/czifile/"
   ]
  },
  {
   "cell_type": "code",
   "execution_count": null,
   "metadata": {},
   "outputs": [],
   "source": [
    "#pip install czifile \n",
    "\n",
    "import czifile\n",
    "\n",
    "img = czifile.imread('images/test_image.czi')\n",
    "print(img.shape)\n",
    "\n",
    "\n",
    "import czifile\n",
    "from skimage import io\n",
    "\n",
    "img = czifile.imread('images/Osteosarcoma_01.czi')\n",
    "print(img.shape)\n",
    "img1=img[0, 0, :, :, :, 0]\n",
    "print(img1.shape)\n",
    "img2=img1[2,:,:]\n",
    "io.imshow(img2)"
   ]
  }
 ],
 "metadata": {
  "kernelspec": {
   "display_name": "Python 3",
   "language": "python",
   "name": "python3"
  },
  "language_info": {
   "codemirror_mode": {
    "name": "ipython",
    "version": 3
   },
   "file_extension": ".py",
   "mimetype": "text/x-python",
   "name": "python",
   "nbconvert_exporter": "python",
   "pygments_lexer": "ipython3",
   "version": "3.6.9"
  }
 },
 "nbformat": 4,
 "nbformat_minor": 4
}
