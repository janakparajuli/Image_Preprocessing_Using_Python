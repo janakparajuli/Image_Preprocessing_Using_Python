{
 "cells": [
  {
   "cell_type": "markdown",
   "metadata": {},
   "source": [
    "# Image Pre-processing using pillow "
   ]
  },
  {
   "cell_type": "code",
   "execution_count": 1,
   "metadata": {},
   "outputs": [
    {
     "name": "stdout",
     "output_type": "stream",
     "text": [
      "<class 'PIL.JpegImagePlugin.JpegImageFile'>\n",
      "JPEG\n",
      "RGB\n",
      "(639, 513)\n"
     ]
    }
   ],
   "source": [
    "#Reading images\n",
    "from PIL import Image \n",
    "  \n",
    "img = Image.open(\"images/test_image.jpg\") #Not a numpy array\n",
    "print(type(img))\n",
    "# show Images on external default viewer. This can be paint or photo viewer on Windows\n",
    "img.show() \n",
    " \n",
    "# prints format of image \n",
    "print(img.format) \n",
    "  \n",
    "# prints mode of image RGB or CMYK\n",
    "print(img.mode) \n",
    "\n",
    "print(img. size)  #prints the size of image (wodth, height)"
   ]
  },
  {
   "cell_type": "code",
   "execution_count": 2,
   "metadata": {},
   "outputs": [],
   "source": [
    "# Resize images\n",
    "small_img = img.resize((200, 300))\n",
    "small_img.save(\"images/test_image_small.jpg\")  #squished image"
   ]
  },
  {
   "cell_type": "markdown",
   "metadata": {},
   "source": [
    "`resize()` method resizes images to exact value whether it makes sense or not. Aspect ratio is not maintained so images are squished. If you want to keep the aspect ration then use `thumbnail()` method."
   ]
  },
  {
   "cell_type": "code",
   "execution_count": 3,
   "metadata": {},
   "outputs": [
    {
     "name": "stdout",
     "output_type": "stream",
     "text": [
      "(200, 160)\n"
     ]
    }
   ],
   "source": [
    "img.thumbnail((200, 200))\n",
    "img.save(\"images/test_image_small_new.jpg\")\n",
    "\n",
    "print(img.size)\n",
    "\n",
    "img.thumbnail((1200, 1200))  #doesn't blow up the image, only reduces the size if original is larger.\n",
    "img.save(\"images/test_image_small_new1.jpg\")"
   ]
  },
  {
   "cell_type": "code",
   "execution_count": 4,
   "metadata": {},
   "outputs": [
    {
     "name": "stdout",
     "output_type": "stream",
     "text": [
      "(1200, 1300)\n"
     ]
    }
   ],
   "source": [
    "large_img = img.resize((1200, 1300))\n",
    "large_img.save(\"images/test_image_large.jpg\")  #enlarged image. \n",
    "print(large_img.size)"
   ]
  },
  {
   "cell_type": "code",
   "execution_count": 5,
   "metadata": {},
   "outputs": [],
   "source": [
    "#Cropping images\n",
    "from PIL import Image \n",
    "img = Image.open(\"images/test_image.jpg\")\n",
    "cropped_img = img.crop((0, 0, 300, 300))  #crops from (0,0) to (300,300)\n",
    "cropped_img.save(\"images/cropped_img.jpg\")"
   ]
  },
  {
   "cell_type": "markdown",
   "metadata": {},
   "source": [
    "We can paste image on another image, this involves copying original image and pasting a second image on it."
   ]
  },
  {
   "cell_type": "code",
   "execution_count": 6,
   "metadata": {},
   "outputs": [
    {
     "name": "stdout",
     "output_type": "stream",
     "text": [
      "(639, 513)\n",
      "(220, 330)\n"
     ]
    }
   ],
   "source": [
    "from PIL import Image \n",
    "img1 = Image.open(\"images/test_image.jpg\")\n",
    "print(img1.size)\n",
    "img2 = Image.open(\"images/monkey.jpg\")\n",
    "print(img2.size)\n",
    "img2.thumbnail((200, 200))  #Resize in case the image is very large. \n",
    "\n",
    "img1_copy = img1.copy()   #Create a copy of the large image\n",
    "img1_copy.paste(img2, (50, 50))  #Paset the smaller imager image at specified location\n",
    "img1_copy.save(\"images/pasted_image.jpg\")"
   ]
  },
  {
   "cell_type": "code",
   "execution_count": 7,
   "metadata": {},
   "outputs": [],
   "source": [
    "# Rotating images\n",
    "from PIL import Image \n",
    "img = Image.open(\"images/test_image.jpg\")\n",
    "\n",
    "img_90_rot = img.rotate(90)\n",
    "img_90_rot.save(\"images/rotated90.jpg\")  #keeps original aspect ratio and dimensions\n",
    "\n",
    "img_45_rot = img.rotate(45)\n",
    "img_45_rot.save(\"images/rotated45.jpg\")  #keeps original aspect ratio and dimensions\n",
    "\n",
    "img_45_rot = img.rotate(45, expand=True)  #Dimensions are expanded to fir the entire image\n",
    "img_45_rot.save(\"images/rotated45.jpg\")  "
   ]
  },
  {
   "cell_type": "code",
   "execution_count": 8,
   "metadata": {},
   "outputs": [],
   "source": [
    "#Flipping or transposing images\n",
    "\n",
    "from PIL import Image \n",
    "img = Image.open(\"images/monkey.jpg\")  #easy to see that the image is flipped\n",
    "\n",
    "img_flipLR = img.transpose(Image.FLIP_LEFT_RIGHT)\n",
    "img_flipLR.save(\"images/flippedLR.jpg\")\n",
    "\n",
    "img_flipTB = img.transpose(Image.FLIP_TOP_BOTTOM)\n",
    "img_flipTB.save(\"images/flippedTB.jpg\")\n",
    "\n",
    "# Color transforms, convert images between L (greyscale), RGB and CMYK\n",
    "from PIL import Image \n",
    "img = Image.open(\"images/test_image.jpg\")\n",
    "\n",
    "grey_img = img.convert('L')  #L is for grey scale\n",
    "grey_img.save(\"images/grey_img.jpg\")"
   ]
  },
  {
   "cell_type": "markdown",
   "metadata": {},
   "source": [
    "Many other tasks can be performed. \n",
    "\n",
    "\n",
    "Here is the full documentation https://pillow.readthedocs.io/en/stable/reference/Image.html"
   ]
  },
  {
   "cell_type": "code",
   "execution_count": 9,
   "metadata": {},
   "outputs": [
    {
     "name": "stdout",
     "output_type": "stream",
     "text": [
      "images/test_images/aeroplane/1.jpg\n",
      "images/test_images/aeroplane/3.jpg\n",
      "images/test_images/aeroplane/4.jpg\n",
      "images/test_images/aeroplane/2.jpg\n"
     ]
    }
   ],
   "source": [
    "#Here is a way to automate image processing for multiple images.\n",
    "\n",
    "from PIL import Image \n",
    "import glob\n",
    "\n",
    "path = \"images/test_images/aeroplane/*.*\"\n",
    "for file in glob.glob(path):\n",
    "    print(file)     #just stop here to see all file names printed\n",
    "    a= Image.open(file)  #now, we can read each file since we have the full path\n",
    "    \n",
    "    rotated45 = a.rotate(45, expand=True)\n",
    "    rotated45.save(file+\"_rotated45.png\", \"PNG\")   "
   ]
  },
  {
   "cell_type": "code",
   "execution_count": null,
   "metadata": {},
   "outputs": [],
   "source": []
  }
 ],
 "metadata": {
  "kernelspec": {
   "display_name": "Python 3",
   "language": "python",
   "name": "python3"
  },
  "language_info": {
   "codemirror_mode": {
    "name": "ipython",
    "version": 3
   },
   "file_extension": ".py",
   "mimetype": "text/x-python",
   "name": "python",
   "nbconvert_exporter": "python",
   "pygments_lexer": "ipython3",
   "version": "3.6.9"
  }
 },
 "nbformat": 4,
 "nbformat_minor": 4
}
