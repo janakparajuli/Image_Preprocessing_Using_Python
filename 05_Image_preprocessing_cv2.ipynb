{
 "cells": [
  {
   "cell_type": "markdown",
   "metadata": {},
   "source": [
    "# Image preprocessing using cv2\n",
    "\n",
    "- `openCV` is a library of programming functions mainly aimed at computer vision.\n",
    "- Very good for images and videos, especially real time videos.\n",
    "- It is used extensively for facial recognition, object recognition, motion tracking, optical character recognition, segmentation, and even for artificial neural netwroks. \n",
    "\n",
    "\n",
    "**Useful preprocessing steps for image processing, for example segmentation.** \n",
    "1. Split & Merge channels\n",
    "2. Scaling / resizing\n",
    "3. Denoising / smoothing\n",
    "4. Edge detection\n",
    "5. Enhancing images. using histogram equalization"
   ]
  },
  {
   "cell_type": "code",
   "execution_count": 1,
   "metadata": {},
   "outputs": [
    {
     "name": "stdout",
     "output_type": "stream",
     "text": [
      "(586, 415, 3)\n",
      "Top left [38  3  0]\n",
      "Top right [ 0 20 21]\n",
      "Bottom Left [ 0 55  0]\n",
      "Bottom right [ 16   6 250]\n"
     ]
    }
   ],
   "source": [
    "#to install open CV : pip install opencv-python\n",
    "#to import the package you need to use import cv2\n",
    "\n",
    "###################################\n",
    "#Pixel values, split and merge channels, \n",
    "\n",
    "import cv2\n",
    "\n",
    "grey_img = cv2.imread(\"images/RGBY.jpg\", 0) \n",
    "img = cv2.imread(\"images/RGBY.jpg\", 1)   #Color is BGR not RGB\n",
    "\n",
    "print(img.shape)     #(586, 415, 3)\n",
    "print(\"Top left\", img[0,0])    #Top left pixel\n",
    "print(\"Top right\", img[0, 400])  # Top right\n",
    "print(\"Bottom Left\", img[580, 0]) # Bottom left\n",
    "print(\"Bottom right\", img[580, 400])  # Bottom right\n",
    "\n",
    "cv2.imshow(\"color pic\", img)\n",
    "cv2.waitKey(0)          \n",
    "cv2.destroyAllWindows() "
   ]
  },
  {
   "cell_type": "code",
   "execution_count": 2,
   "metadata": {},
   "outputs": [],
   "source": [
    "#Split and merging channels\n",
    "#Show individual color channels in the image\n",
    "blue = img[:, :, 0]   #Show only blue pic. (BGR so B=0)\n",
    "green = img[:, :, 1]  #Show only green pixels\n",
    "red = img[:, :, 2]  #red only\n",
    "\n",
    "\"\"\"\n",
    "cv2.imshow(\"red pic\", red)\n",
    "cv2.waitKey(0)          \n",
    "cv2.destroyAllWindows() \n",
    "\"\"\"\n",
    "\n",
    "#Or split all channels at once\n",
    "\n",
    "b,g,r = cv2.split(img)\n",
    "\n",
    "cv2.imshow(\"green pic\", g)\n",
    "cv2.waitKey(0)          \n",
    "cv2.destroyAllWindows() \n",
    "\n",
    "#to merge each image into bgr\n",
    "\n",
    "img_merged = cv2.merge((b,g,r))\n",
    "\n",
    "cv2.imshow(\"merged pic\", img_merged)\n",
    "cv2.waitKey(0)          \n",
    "cv2.destroyAllWindows() "
   ]
  },
  {
   "cell_type": "code",
   "execution_count": 3,
   "metadata": {},
   "outputs": [],
   "source": [
    "######################\n",
    "#Basic image operations\n",
    "# Scaling, \n",
    "#https://docs.opencv.org/3.3.1/da/d6e/tutorial_py_geometric_transformations.html\n",
    "\n",
    "import cv2\n",
    "\n",
    "img = cv2.imread(\"images/monkey.jpg\", 1)   #Color is BGR not RGB\n",
    "\n",
    "#use cv2.resize. Can specify size or scaling factor.\n",
    "#Inter_cubic or Inter_linear for zooming.\n",
    "#Use INTER_AREA for shrinking\n",
    "#Following xample zooms by 2 times.\n",
    "\n",
    "resized = cv2.resize(img, None, fx=2, fy=2, interpolation = cv2.INTER_CUBIC)\n",
    "\n",
    "cv2.imshow(\"original pic\", img)\n",
    "cv2.imshow(\"resized pic\", resized)\n",
    "cv2.waitKey(0)          \n",
    "cv2.destroyAllWindows() "
   ]
  },
  {
   "cell_type": "code",
   "execution_count": null,
   "metadata": {},
   "outputs": [],
   "source": []
  }
 ],
 "metadata": {
  "kernelspec": {
   "display_name": "Python 3",
   "language": "python",
   "name": "python3"
  },
  "language_info": {
   "codemirror_mode": {
    "name": "ipython",
    "version": 3
   },
   "file_extension": ".py",
   "mimetype": "text/x-python",
   "name": "python",
   "nbconvert_exporter": "python",
   "pygments_lexer": "ipython3",
   "version": "3.6.9"
  }
 },
 "nbformat": 4,
 "nbformat_minor": 4
}
