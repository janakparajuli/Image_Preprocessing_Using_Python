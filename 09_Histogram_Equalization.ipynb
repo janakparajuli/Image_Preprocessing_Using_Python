{
 "cells": [
  {
   "cell_type": "markdown",
   "metadata": {},
   "source": [
    "# Histogram Equalization\n",
    "\n",
    "**Histogram equalization:** \n",
    "Stretches histogram to include all ranges if the original histogram is confined only to a small region - low contrast images. But, this type of stretching may not result in ideal results and gives  too bright and too dark regions in the image. This can be very bad for images with large intensity variations. \n",
    "\n",
    "**CLAHE:Contrast limited adaptive histogram equalization**\n",
    "Regular histogram equalization uses global contrast of the image. This results in too bright and too dark regions as the histogram stretches and is not confined to specific region.\n",
    "\n",
    "**Adaptive histogram equalization** divides the image into small tiles and within each tile the histogram is equalized. Tile size is typically 8x8. If theimage contains noise, it gets amplified during this process. Therefore, contrast limiting is applied to limit the contrast below a specific limit. Bilinear interpolation is performed between tile borders. \n",
    "\n",
    "Below, let us perform both histogram equalization and CLAHE and compare the results. \n",
    "\n",
    "The best way to work with color images is by converting them to luminance space,e.g. LAB, and enhancing lumincnace channel only and eventually combining all channels. "
   ]
  },
  {
   "cell_type": "code",
   "execution_count": 4,
   "metadata": {},
   "outputs": [
    {
     "data": {
      "image/png": "[encoded data removed]",
      "text/plain": [
       "<Figure size 432x288 with 1 Axes>"
      ]
     },
     "metadata": {
      "needs_background": "light"
     },
     "output_type": "display_data"
    }
   ],
   "source": [
    "import cv2\n",
    "from skimage import io\n",
    "from matplotlib import pyplot as plt\n",
    "\n",
    "img = cv2.imread(\"images/bio_low_contrast.jpg\", 1)\n",
    "#img = cv2.imread('images/retina.jpg', 1)\n",
    "\n",
    "#Converting image to LAB Color so CLAHE can be applied to the luminance channel\n",
    "lab_img= cv2.cvtColor(img, cv2.COLOR_BGR2LAB)\n",
    "\n",
    "#Splitting the LAB image to L, A and B channels, respectively\n",
    "l, a, b = cv2.split(lab_img)\n",
    "\n",
    "plt.hist(l.flat, bins=100, range=(0,255))\n",
    "plt.show()"
   ]
  },
  {
   "cell_type": "code",
   "execution_count": 5,
   "metadata": {},
   "outputs": [
    {
     "data": {
      "image/png": "[encoded data removed]",
      "text/plain": [
       "<Figure size 432x288 with 1 Axes>"
      ]
     },
     "metadata": {
      "needs_background": "light"
     },
     "output_type": "display_data"
    }
   ],
   "source": [
    "###########Histogram Equlization#############\n",
    "#Apply histogram equalization to the L channel\n",
    "equ = cv2.equalizeHist(l)\n",
    "\n",
    "plt.hist(equ.flat, bins=100, range=(0,255))\n",
    "plt.show()\n",
    "\n",
    "#Combine the Hist. equalized L-channel back with A and B channels\n",
    "updated_lab_img1 = cv2.merge((equ,a,b))\n",
    "\n",
    "#Convert LAB image back to color (RGB)\n",
    "hist_eq_img = cv2.cvtColor(updated_lab_img1, cv2.COLOR_LAB2BGR)"
   ]
  },
  {
   "cell_type": "code",
   "execution_count": 6,
   "metadata": {},
   "outputs": [
    {
     "data": {
      "image/png": "[encoded data removed]",
      "text/plain": [
       "<Figure size 432x288 with 1 Axes>"
      ]
     },
     "metadata": {
      "needs_background": "light"
     },
     "output_type": "display_data"
    }
   ],
   "source": [
    "###########CLAHE#########################\n",
    "#Apply CLAHE to L channel\n",
    "clahe = cv2.createCLAHE(clipLimit=3.0, tileGridSize=(8,8))\n",
    "clahe_img = clahe.apply(l)\n",
    "\n",
    "plt.hist(clahe_img.flat, bins=100, range=(0,255))\n",
    "plt.show()\n",
    "\n",
    "#Combine the CLAHE enhanced L-channel back with A and B channels\n",
    "updated_lab_img2 = cv2.merge((clahe_img,a,b))\n",
    "\n",
    "#Convert LAB image back to color (RGB)\n",
    "CLAHE_img = cv2.cvtColor(updated_lab_img2, cv2.COLOR_LAB2BGR)\n",
    "\n",
    "\n",
    "# cv2.imshow(\"Original image\", img)\n",
    "# cv2.imshow(\"Equalized image\", hist_eq_img)\n",
    "# cv2.imshow('CLAHE Image', CLAHE_img)\n",
    "# cv2.waitKey(0)\n",
    "# cv2.destroyAllWindows() "
   ]
  },
  {
   "cell_type": "code",
   "execution_count": null,
   "metadata": {},
   "outputs": [],
   "source": []
  }
 ],
 "metadata": {
  "kernelspec": {
   "display_name": "Python 3",
   "language": "python",
   "name": "python3"
  },
  "language_info": {
   "codemirror_mode": {
    "name": "ipython",
    "version": 3
   },
   "file_extension": ".py",
   "mimetype": "text/x-python",
   "name": "python",
   "nbconvert_exporter": "python",
   "pygments_lexer": "ipython3",
   "version": "3.6.9"
  }
 },
 "nbformat": 4,
 "nbformat_minor": 4
}
