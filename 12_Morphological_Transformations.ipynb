{
 "cells": [
  {
   "cell_type": "markdown",
   "metadata": {},
   "source": [
    "# Thresholding Revisited"
   ]
  },
  {
   "cell_type": "code",
   "execution_count": 6,
   "metadata": {},
   "outputs": [],
   "source": [
    "#Let us take the image that we got from OTSU and try various filters.\n",
    "\n",
    "import cv2\n",
    "import matplotlib.pyplot as plt\n",
    "import numpy as np\n",
    "\n",
    "img = cv2.imread(\"images/BSE_Google_noisy.jpg\", 0)"
   ]
  },
  {
   "cell_type": "code",
   "execution_count": 10,
   "metadata": {},
   "outputs": [
    {
     "data": {
      "image/png": "[encoded data removed]",
      "text/plain": [
       "<Figure size 432x288 with 1 Axes>"
      ]
     },
     "metadata": {
      "needs_background": "light"
     },
     "output_type": "display_data"
    }
   ],
   "source": [
    "plt.hist(img.flat,bins=100,range=(0,255))\n",
    "plt.show()"
   ]
  },
  {
   "cell_type": "markdown",
   "metadata": {},
   "source": [
    "We can assihgn different values for segmentation as done previously by looking at the histogram for e.g. 100 could be one of the thershold value.\n",
    "\n",
    "In OTSU based thresholding we don't tell where to seperate the histogram as it is an automatic thresholding. We don't need to tell where to separate the histogram, the algorithm find the optimum value."
   ]
  },
  {
   "cell_type": "code",
   "execution_count": 6,
   "metadata": {},
   "outputs": [],
   "source": [
    "ret,th = cv2.threshold(img,0,255,cv2.THRESH_BINARY+cv2.THRESH_OTSU)"
   ]
  },
  {
   "cell_type": "markdown",
   "metadata": {},
   "source": [
    "- The 2nd parameter in `cv2.threshold()` is put to 0 as we want to do OTSU based thresholding so we want the algorithm to look from 0 to all the way upto 255 to find optimum threshold. Had it been only a *Binary Thresholding* we would have put 100 instead of 0 because we need to explicitly tell the threshold value.\n",
    "\n",
    "\n",
    "- The 3rd parameter in `cv2.threshold()` is 255, this is that value which we want to assign to all the thresholded pixels so that when we open up the image it looks like a black and white image. Black corresponding to pixels for one gray level and white corresponding to other.\n",
    "\n",
    "- Next argument is: How to do the thresholding ?\n",
    "\n",
    "- `ret` is the returned optimum positioned thresholding value which found by OTSU whereas `th` is the array it generates after thresholding which is nothing but our output image."
   ]
  },
  {
   "cell_type": "code",
   "execution_count": 11,
   "metadata": {},
   "outputs": [],
   "source": [
    "cv2.imshow(\"Original Image\", img)\n",
    "cv2.imshow(\"OTSU Image\",th)\n",
    "cv2.waitKey(0)          \n",
    "cv2.destroyAllWindows() \n",
    "\n",
    "# plt.imshow(erosion)\n",
    "# plt.imshow(dilation)"
   ]
  },
  {
   "cell_type": "markdown",
   "metadata": {},
   "source": [
    "After comparing the the original image to the thresholded image, OTSU did quite a good job but you can see small islands of white pixels inside the black pixels. Which need to be cleaned.\n",
    "\n",
    "# Morphological_Transformations\n",
    "\n",
    "- After thresholding, image may contain a lot of noise which are nothing but small islands of white (or black) pixels on a fairly large area of the black (or white) pixels.\n",
    "\n",
    "- So we generally use Erosion and Dilation after thresholding\n",
    "\n",
    "**Erosion :** eroding i.e., removing certain pixels \n",
    "\n",
    "**Dilation :** dilating i.e., adding the pixels (filling the voids). After Dilation you will get rid off all the small islands of pixels in the image, as they are filled with the surrounding pixels\n",
    "\n",
    "But how many pixels we should erode/dilute ??\n",
    "\n",
    "Ans: It is defined by a kernel."
   ]
  },
  {
   "cell_type": "code",
   "execution_count": 6,
   "metadata": {},
   "outputs": [],
   "source": [
    "kernel = np.ones((3,3),np.uint8)   # 3x3 kernel with all ones. \n",
    "# print(kernel)\n",
    "\n",
    "erosion = cv2.erode(th,kernel,iterations = 1)  #Erodes pixels based on the kernel defined\n",
    "\n",
    "cv2.imshow(\"Original Image\", img)\n",
    "cv2.imshow(\"OTSU Image\",th)\n",
    "cv2.imshow(\"Erosion\", erosion)\n",
    "\n",
    "cv2.waitKey(0)          \n",
    "cv2.destroyAllWindows() "
   ]
  },
  {
   "cell_type": "markdown",
   "metadata": {},
   "source": [
    "So erosion did a good job in the background, the isolated pixels are allcleaned up but we also added some in the white regions during the process. This happens because there were many isolated gaps (black pixels). SO now we have to dilate these pixels i.e., to fill in these gaps."
   ]
  },
  {
   "cell_type": "code",
   "execution_count": 13,
   "metadata": {},
   "outputs": [],
   "source": [
    "dilation = cv2.dilate(erosion,kernel,iterations = 1)  #Apply dilation after erosion to see the effect. \n",
    "\n",
    "cv2.imshow(\"Original Image\", img)\n",
    "cv2.imshow(\"OTSU Image\",th)\n",
    "\n",
    "cv2.imshow(\"Erosion + Dilation\",dilation)\n",
    "\n",
    "cv2.waitKey(0)          \n",
    "cv2.destroyAllWindows() \n",
    "\n",
    "# plt.imshow(erosion)\n",
    "# plt.imshow(dilation)"
   ]
  },
  {
   "cell_type": "markdown",
   "metadata": {},
   "source": [
    "Good Job but not the best. Lets try to increase the number of iterations "
   ]
  },
  {
   "cell_type": "code",
   "execution_count": 14,
   "metadata": {},
   "outputs": [],
   "source": [
    "#playing with iterations\n",
    "\n",
    "dilation = cv2.dilate(erosion,kernel,iterations = 2)\n",
    "\n",
    "cv2.imshow(\"Original Image\", img)\n",
    "cv2.imshow(\"OTSU Image\",th)\n",
    "\n",
    "cv2.imshow(\"Erosion + Dilation\",dilation)\n",
    "\n",
    "cv2.waitKey(0)          \n",
    "cv2.destroyAllWindows() "
   ]
  },
  {
   "cell_type": "markdown",
   "metadata": {},
   "source": [
    "Looks better now !!"
   ]
  },
  {
   "cell_type": "markdown",
   "metadata": {},
   "source": [
    "---"
   ]
  },
  {
   "cell_type": "markdown",
   "metadata": {},
   "source": [
    "Erosion followed by dilation can be a single operation called **opening** or `binary_opening` in skimage.\n",
    "\n",
    "    Opening = Erosion + Dilation\n",
    "\n",
    "**Closing** is opposite, dilation followed by erosion.\n",
    "\n",
    "    Closing = Dilation + Erosion (i.e., First Dilation then Erosion)"
   ]
  },
  {
   "cell_type": "code",
   "execution_count": 2,
   "metadata": {},
   "outputs": [],
   "source": [
    "opening = cv2.morphologyEx(th, cv2.MORPH_OPEN, kernel)  # Compare this image with the previous one\n",
    "\n",
    "\n",
    "# cv2.imshow(\"Original Image\", img)\n",
    "cv2.imshow(\"OTSU Image\",th)\n",
    "\n",
    "cv2.imshow(\"Erosion + Dilation\",dilation)\n",
    "cv2.imshow(\"Opened Image\",opening)\n",
    "\n",
    "\n",
    "cv2.waitKey(0)          \n",
    "cv2.destroyAllWindows() "
   ]
  },
  {
   "cell_type": "markdown",
   "metadata": {},
   "source": [
    "The result is an identical copy of what we did in previous cells because opening is nothing but erosion followed by dilation. So instead of doing two steps (one for erosion and one for dilation) you can do just one.\n",
    "\n",
    "Closing is opposite i.e., Dilation followed by Erosion."
   ]
  },
  {
   "cell_type": "code",
   "execution_count": 2,
   "metadata": {},
   "outputs": [],
   "source": [
    "closing = cv2.morphologyEx(th, cv2.MORPH_CLOSE, kernel)"
   ]
  },
  {
   "cell_type": "code",
   "execution_count": 5,
   "metadata": {},
   "outputs": [],
   "source": [
    "# cv2.imshow(\"Opening\", opening)\n",
    "# cv2.imshow(\"Closing\",closing)\n",
    "# cv2.waitKey(0)          \n",
    "# cv2.destroyAllWindows() "
   ]
  },
  {
   "cell_type": "markdown",
   "metadata": {},
   "source": [
    "- There are many such operations such as **Morphological gradient** which is the difference between dilation and erosion of an image. \n",
    "\n",
    "- Another one is **Top Hat:** It is the difference between input image and Opened Image.\n",
    "\n",
    "- **Black Hat:** It is the difference between the Closed image and input image."
   ]
  },
  {
   "cell_type": "code",
   "execution_count": 6,
   "metadata": {},
   "outputs": [],
   "source": [
    "gradient = cv2.morphologyEx(th, cv2.MORPH_GRADIENT, kernel)\n",
    "\n",
    "# cv2.imshow(\"Morphological Gradient\",gradient)\n",
    "# cv2.waitKey(0)          \n",
    "# cv2.destroyAllWindows() "
   ]
  },
  {
   "cell_type": "code",
   "execution_count": null,
   "metadata": {},
   "outputs": [],
   "source": [
    "tophat = cv2.morphologyEx(th, cv2.MORPH_TOPHAT, kernel)\n",
    "\n",
    "blackhat = cv2.morphologyEx(img, cv2.MORPH_BLACKHAT, kernel)\n",
    "\n",
    "cv2.imshow(\"Top hat Image\", tophat)\n",
    "cv2.imshow(\"Black hat Image\", blackhat)\n",
    "cv2.waitKey(0)          \n",
    "cv2.destroyAllWindows() "
   ]
  },
  {
   "cell_type": "markdown",
   "metadata": {},
   "source": [
    "The best way to avoid so much of complexityis to begin with an Image which is as cleaned (denoised) as possible. To compare thus you can start this section again from the beginning but use a median filter right before thresholding. You will see that onle Filtering (Denoising) + Thresholding gives a better result that of using complex morphological operations.\n",
    "\n",
    "So does it mean that, whatever we have done in this section is waste? Naah !! If your image still contains some noise even after using the best possible filter. Morphological Operations come in to the rescue."
   ]
  },
  {
   "cell_type": "code",
   "execution_count": 17,
   "metadata": {},
   "outputs": [],
   "source": [
    "import cv2\n",
    "import matplotlib.pyplot as plt\n",
    "import numpy as np\n",
    "\n",
    "img = cv2.imread(\"images/BSE_Google_noisy.jpg\", 0)\n",
    "\n",
    "median = cv2.medianBlur(img,3)\n",
    "\n",
    "ret,th = cv2.threshold(img,0,255,cv2.THRESH_BINARY+cv2.THRESH_OTSU)\n",
    "\n",
    "\n",
    "cv2.imshow(\"Original Image\", img)\n",
    "cv2.imshow(\"Medain Image\", median)\n",
    "cv2.imshow(\"Thresholded Image\",th)\n",
    "\n",
    "cv2.waitKey(0)          \n",
    "cv2.destroyAllWindows() "
   ]
  },
  {
   "cell_type": "code",
   "execution_count": null,
   "metadata": {},
   "outputs": [],
   "source": []
  }
 ],
 "metadata": {
  "kernelspec": {
   "display_name": "Python 3",
   "language": "python",
   "name": "python3"
  },
  "language_info": {
   "codemirror_mode": {
    "name": "ipython",
    "version": 3
   },
   "file_extension": ".py",
   "mimetype": "text/x-python",
   "name": "python",
   "nbconvert_exporter": "python",
   "pygments_lexer": "ipython3",
   "version": "3.6.9"
  }
 },
 "nbformat": 4,
 "nbformat_minor": 4
}
