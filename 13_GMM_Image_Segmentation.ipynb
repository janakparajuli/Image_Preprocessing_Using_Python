{
 "cells": [
  {
   "cell_type": "markdown",
   "metadata": {},
   "source": [
    "# Image Segmentation using GMM (Gaussian Mixture Model)\n",
    "\n"
   ]
  },
  {
   "cell_type": "markdown",
   "metadata": {},
   "source": [
    "If image regions are eailty separable i.e., the histogram have separable peaks from where we can pick thresholding values easily we can use k-means clustering for image segmentation as the scatter plot of pixel will be easily grouped.\n",
    "\n",
    "But what if the regions are not easily separable. The peaks in the histogram are not distinct or clear. (The histogram will look like merging of different peaks very deeply) We cannot easily and surely spot the thresholding values out of it. In terms of k-means we can say that the clusters are not easily separable or they are highly overlapped.\n",
    "\n",
    "In such a case we use GMM i.e., Gaussian Mixture Model. GMM assumes that there are many gaussians (normal curves) in the histogram. In other way we can say that the Image Histogram is made up of many small gaussian histograms.\n",
    "\n",
    "[IMAGE]\n",
    "\n",
    "Curve in the Blue is combination of 4 Red curves mixed at different proportions. Where each of these small gaussians have their own mean and s.d.(spread) and also the height (which is treated as weights given to the gaussian)\n",
    "\n",
    "[IMAGE]\n",
    "\n",
    "- Each data points will have some probability related to each kind of region (small gaussians)\n",
    "\n",
    "- just like k-means, the centre is now updated using weighted AM where prob. are considered as weights and the process is repeated in next iteration."
   ]
  },
  {
   "cell_type": "markdown",
   "metadata": {},
   "source": [
    "Both BIC and AIC are included as built in methods as part of Scikit-Learn's  GaussianMixture. Therefore we do not need to import any other libraries to compute these. The way you compute them (for example BIC) is by fitting a GMM model and then calling the method BIC. In the video I tried to achieve multiple things in one single line, compute BIC for each GMM calculated by changing number of components and also to plot them. Let me elaborate...\n",
    "\n",
    "Instead of changing number of components in a loop let us compute one at a time, for example let us define n = 2. Then fit a gmm model for n=2 and then calculate BIC. The code would look like ..."
   ]
  },
  {
   "cell_type": "code",
   "execution_count": 1,
   "metadata": {},
   "outputs": [],
   "source": [
    "import numpy as np\n",
    "import cv2\n",
    "\n",
    "img = cv2.imread(\"images/Alloy.jpg\")\n",
    "img2 = img.reshape((-1,3))"
   ]
  },
  {
   "cell_type": "code",
   "execution_count": 2,
   "metadata": {},
   "outputs": [],
   "source": [
    "from sklearn.mixture import GaussianMixture as GMM\n",
    "\n",
    "n = 2\n",
    "gmm_model = GMM(n, covariance_type='tied').fit(img2)\n",
    "#The above line generates GMM model for n=2\n",
    "\n",
    "gmm_labels  = gmm_model.predict(img2) #generate labels for segments"
   ]
  },
  {
   "cell_type": "markdown",
   "metadata": {},
   "source": [
    "`covariance_type` have four options: full (default), tied, spherical and diagonal.\n",
    "\n",
    "To visulaize the labels, lets put back the numbers in the shape of orginal image i.e., we will be reconstructed the original image with labels."
   ]
  },
  {
   "cell_type": "code",
   "execution_count": 4,
   "metadata": {},
   "outputs": [
    {
     "data": {
      "text/plain": [
       "<matplotlib.image.AxesImage at 0x7f5e7551a668>"
      ]
     },
     "execution_count": 4,
     "metadata": {},
     "output_type": "execute_result"
    },
    {
     "data": {
      "image/png": "[encoded data removed]",
      "text/plain": [
       "<Figure size 432x288 with 1 Axes>"
      ]
     },
     "metadata": {
      "needs_background": "light"
     },
     "output_type": "display_data"
    }
   ],
   "source": [
    "original_shape = img.shape #create a variable with original image shape\n",
    "\n",
    "segmented = gmm_labels.reshape(original_shape[0], original_shape[1])  # .reshape(1125,1500)\n",
    "# we dont have a 3rd channel in our segmented image\n",
    "\n",
    "import matplotlib.pyplot as plt\n",
    "plt.imshow(segmented)"
   ]
  },
  {
   "cell_type": "markdown",
   "metadata": {},
   "source": [
    "Now let us call the bic method (or aic if you want)."
   ]
  },
  {
   "cell_type": "code",
   "execution_count": null,
   "metadata": {},
   "outputs": [],
   "source": [
    "bic_value = gmm_model.bic(img2)  #Remember to call the same model name from above)\n",
    "print(bic_value)  #You should see bic for GMM model generated using n=2.\n",
    "#Do this exercise for different n values and plot them to find the minimum."
   ]
  },
  {
   "cell_type": "markdown",
   "metadata": {},
   "source": [
    "Now, to explain `m.bic`, here are the lines I used in the video. "
   ]
  },
  {
   "cell_type": "code",
   "execution_count": null,
   "metadata": {},
   "outputs": [],
   "source": [
    "n_components = np.arange(1,10)\n",
    "gmm_models = [GMM(n, covariance_type='tied').fit(img2) for n in n_components]\n",
    "plt.plot(n_components, [m.bic(img2) for m in gmm_models], label='BIC')"
   ]
  },
  {
   "cell_type": "markdown",
   "metadata": {},
   "source": [
    "Here, we are computing multiple GMM models each by changing n value from 1 to 10. \n",
    "Then, for each n value we are computing bic via `m.bic(img2)` where m is replaced by gmm_models for each of the model generated. Think of this as typing `gmm_model.bic(img2)` each time you change n and generate a new GMM model. \n",
    "\n",
    "I hope this explanation helps better understand the video content. "
   ]
  },
  {
   "cell_type": "markdown",
   "metadata": {},
   "source": [
    "---"
   ]
  },
  {
   "cell_type": "code",
   "execution_count": null,
   "metadata": {},
   "outputs": [],
   "source": [
    "import numpy as np\n",
    "import cv2\n",
    "\n",
    "\n",
    "#Use plant cells to demo the GMM on 2 components\n",
    "#Use BSE_Image to demo it on 4 components\n",
    "#USe alloy.jpg to demonstrate bic and how 2 is optimal for alloy\n",
    "\n",
    "img = cv2.imread(\"images/BSE_Image.jpg\")\n",
    "\n",
    "# Convert MxNx3 image into Kx3 where K=MxN\n",
    "img2 = img.reshape((-1,3))  #-1 reshape means, in this case MxN\n",
    "\n",
    "from sklearn.mixture import GaussianMixture as GMM\n",
    "\n",
    "#covariance choices, full, tied, diag, spherical\n",
    "gmm_model = GMM(n_components=4, covariance_type='tied').fit(img2)  #tied works better than full\n",
    "gmm_labels = gmm_model.predict(img2)\n",
    "\n",
    "#Put numbers back to original shape so we can reconstruct segmented image\n",
    "original_shape = img.shape\n",
    "segmented = gmm_labels.reshape(original_shape[0], original_shape[1])\n",
    "cv2.imwrite(\"images/segmented.jpg\", segmented)"
   ]
  }
 ],
 "metadata": {
  "kernelspec": {
   "display_name": "Python 3",
   "language": "python",
   "name": "python3"
  },
  "language_info": {
   "codemirror_mode": {
    "name": "ipython",
    "version": 3
   },
   "file_extension": ".py",
   "mimetype": "text/x-python",
   "name": "python",
   "nbconvert_exporter": "python",
   "pygments_lexer": "ipython3",
   "version": "3.6.9"
  }
 },
 "nbformat": 4,
 "nbformat_minor": 4
}
