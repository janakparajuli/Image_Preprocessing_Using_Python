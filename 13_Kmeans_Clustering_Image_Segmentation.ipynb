{
 "cells": [
  {
   "cell_type": "markdown",
   "metadata": {},
   "source": [
    "# Image Segmentation Using K-means Clustering\n",
    "\n",
    "In an image clusters of pixel values can be thought as representing one phase of color(grey level) and can be taken as a problem of clustering as in Machine Learning where you have to cluster the pixel values according to different classes (in this case segments). "
   ]
  },
  {
   "cell_type": "code",
   "execution_count": 1,
   "metadata": {},
   "outputs": [],
   "source": [
    "import numpy as np\n",
    "import cv2\n",
    "\n",
    "img = cv2.imread(\"images/BSE_Image.jpg\")"
   ]
  },
  {
   "cell_type": "markdown",
   "metadata": {},
   "source": [
    "If we look at the image.  We can observe that there are roughly 4 clearly visible different regions which we can try to isolate.\n",
    "\n",
    "Before applying K-means we need to flatten our image as K-means algorithm works on a list of values and not on value array. Also K-means clustering in OpenCV requires the sample to be of `np.float32` type (You can check the documentation for more info: https://docs.opencv.org/3.0-beta/doc/py_tutorials/py_ml/py_kmeans/py_kmeans_opencv/py_kmeans_opencv.html) so we need to covert the image data type to floating."
   ]
  },
  {
   "cell_type": "code",
   "execution_count": 2,
   "metadata": {},
   "outputs": [],
   "source": [
    "# Convert MxNx3 image into Kx3 where K=MxN\n",
    "img2 = img.reshape((-1,3))  #-1 reshape means, in this case MxN\n",
    "\n",
    "#We convert the unit8 values to float as it is a requirement of the k-means method of OpenCV\n",
    "img2 = np.float32(img2)"
   ]
  },
  {
   "cell_type": "markdown",
   "metadata": {},
   "source": [
    "Now we Define criteria also the number of clusters and then apply k-means. When this criterion is satisfied, the algorithm iteration stops. \n",
    "\n",
    "`cv.TERM_CRITERIA_EPS` — stop the algorithm iteration if specified accuracy, epsilon, is reached.\n",
    "\n",
    "\n",
    "`cv.TERM_CRITERIA_MAX_ITER` — stop the algorithm after the specified number of iterations, max_iter.\n",
    "\n",
    "\n",
    "`cv.TERM_CRITERIA_EPS + cv.TERM_CRITERIA_MAX_ITER` — stop the iteration when any of the above condition is met.\n",
    "\n",
    "Max iterations, in this example 10. \n",
    "\n",
    "Epsilon, required accuracy, in this example 1.0"
   ]
  },
  {
   "cell_type": "code",
   "execution_count": 3,
   "metadata": {},
   "outputs": [],
   "source": [
    "criteria = (cv2.TERM_CRITERIA_EPS + cv2.TERM_CRITERIA_MAX_ITER, 10, 1.0)\n",
    "\n",
    "# Number of clusters\n",
    "k = 4"
   ]
  },
  {
   "cell_type": "markdown",
   "metadata": {},
   "source": [
    "**Number of attempts:** number of times algorithm is executed using different initial labelings. After that the Algorithm return labels that yield best compactness.\n",
    "\n",
    "*Compactness :* It is the sum of squared distance from each point to their corresponding centers."
   ]
  },
  {
   "cell_type": "code",
   "execution_count": 4,
   "metadata": {},
   "outputs": [],
   "source": [
    "attempts = 10"
   ]
  },
  {
   "cell_type": "markdown",
   "metadata": {},
   "source": [
    "**Other flags needed as inputs for K-means :**\n",
    " - Specify how initial seeds are taken : We have two options, \n",
    " `cv.KMEANS_PP_CENTERS` or `cv.KMEANS_RANDOM_CENTERS`"
   ]
  },
  {
   "cell_type": "markdown",
   "metadata": {},
   "source": [
    "`cv2.kmeans` outputs 3 parameters.\n",
    "\n",
    "1. Compactness. \n",
    "2. Labels: Label array.\n",
    "3. Center: the array of centers of clusters. For k=4 we will have 4 centers.\n",
    "\n",
    "NOTE: For RGB image, we will have center for each image layer, so total 4x3 = 12."
   ]
  },
  {
   "cell_type": "code",
   "execution_count": 5,
   "metadata": {},
   "outputs": [],
   "source": [
    "ret,label,center=cv2.kmeans(img2, k, None, criteria, attempts, cv2.KMEANS_PP_CENTERS)"
   ]
  },
  {
   "cell_type": "markdown",
   "metadata": {},
   "source": [
    "Now convert center values from `float32` back into `uint8` so that we can plot the image."
   ]
  },
  {
   "cell_type": "code",
   "execution_count": 6,
   "metadata": {},
   "outputs": [],
   "source": [
    "center = np.uint8(center) "
   ]
  },
  {
   "cell_type": "markdown",
   "metadata": {},
   "source": [
    "Next, we have to access the labels to regenerate the clustered image"
   ]
  },
  {
   "cell_type": "code",
   "execution_count": 7,
   "metadata": {},
   "outputs": [
    {
     "data": {
      "text/plain": [
       "True"
      ]
     },
     "execution_count": 7,
     "metadata": {},
     "output_type": "execute_result"
    }
   ],
   "source": [
    "res = center[label.flatten()]\n",
    "res2 = res.reshape((img.shape)) #Reshape labels to the size of original image"
   ]
  },
  {
   "cell_type": "markdown",
   "metadata": {},
   "source": [
    "Now let us visualize the output result. \n",
    "\n",
    "**Use ImageJ to verify centroids of each segmented regions**"
   ]
  },
  {
   "cell_type": "code",
   "execution_count": 10,
   "metadata": {},
   "outputs": [],
   "source": [
    "cv2.imwrite(\"images/segmented.jpg\", res2)\n",
    "\n",
    "cv2.imshow(\"Original Image\",img2)\n",
    "cv2.imshow(\"Segmented Image\",res2)\n",
    "\n",
    "cv2.waitKey(0)\n",
    "cv2.destroyAllWindows()\n",
    "\n",
    "# import matplotlib.pyplot as plt\n",
    "# figure_size = 15\n",
    "# plt.figure(figsize=(figure_size,figure_size))\n",
    "# plt.subplot(1,2,1),plt.imshow(img2)\n",
    "# plt.title('Original Image'), plt.xticks([]), plt.yticks([])\n",
    "# plt.subplot(1,2,2),plt.imshow(res2)\n",
    "# plt.title('Segmented Image when K = %i' % k), plt.xticks([]), plt.yticks([])\n",
    "# plt.show()"
   ]
  },
  {
   "cell_type": "markdown",
   "metadata": {},
   "source": [
    "Late we can also apply various morphological operations like opening, closing etc to clean the segments.\n",
    "\n",
    "Also try playing with no. of clusters. For example, re-run the above codes with no. of clusters = 5."
   ]
  },
  {
   "cell_type": "code",
   "execution_count": null,
   "metadata": {},
   "outputs": [],
   "source": []
  }
 ],
 "metadata": {
  "kernelspec": {
   "display_name": "Python 3",
   "language": "python",
   "name": "python3"
  },
  "language_info": {
   "codemirror_mode": {
    "name": "ipython",
    "version": 3
   },
   "file_extension": ".py",
   "mimetype": "text/x-python",
   "name": "python",
   "nbconvert_exporter": "python",
   "pygments_lexer": "ipython3",
   "version": "3.6.9"
  }
 },
 "nbformat": 4,
 "nbformat_minor": 4
}
