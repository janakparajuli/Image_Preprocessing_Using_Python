{
 "cells": [
  {
   "cell_type": "markdown",
   "metadata": {},
   "source": [
    "# How to pick the number of parameters in a model ?\n",
    "\n",
    "Que: How do we know how many clusters?\n",
    "\n",
    "Ans: \n",
    "1. May be visually decided using image\n",
    "2. May be decided by Histogram\n",
    "3. Use AIC/BIC (Akaiki Information Criterion / Bayesian Information Criterion)\n",
    "\n",
    "\n",
    "AIC = 2k - 2 log(Residual Sume of Squares)\n",
    "Bayesian Information Criterion (BIC) can be helpful to pick the right number of parameters.\n",
    "BIC estimates the quality of a model using penalty terms for number of parameters.\n",
    "If we fit data with 100 gaussians we will be overfitting. \n",
    "BIC provides optimal value if we do not know.\n",
    "Looks asymptotic, pick the one at the elbow. \n"
   ]
  },
  {
   "cell_type": "code",
   "execution_count": 3,
   "metadata": {},
   "outputs": [
    {
     "name": "stdout",
     "output_type": "stream",
     "text": [
      "-4995746.825568758\n"
     ]
    },
    {
     "ename": "AttributeError",
     "evalue": "module 'matplotlib.pyplot' has no attribute 'xlable'",
     "output_type": "error",
     "traceback": [
      "\u001b[0;31m---------------------------------------------------------------------------\u001b[0m",
      "\u001b[0;31mAttributeError\u001b[0m                            Traceback (most recent call last)",
      "\u001b[0;32m<ipython-input-3-62149a159d98>\u001b[0m in \u001b[0;36m<module>\u001b[0;34m\u001b[0m\n\u001b[1;32m     32\u001b[0m \u001b[0;32mfrom\u001b[0m \u001b[0mmatplotlib\u001b[0m \u001b[0;32mimport\u001b[0m \u001b[0mpyplot\u001b[0m \u001b[0;32mas\u001b[0m \u001b[0mplt\u001b[0m\u001b[0;34m\u001b[0m\u001b[0;34m\u001b[0m\u001b[0m\n\u001b[1;32m     33\u001b[0m \u001b[0mplt\u001b[0m\u001b[0;34m.\u001b[0m\u001b[0mplot\u001b[0m\u001b[0;34m(\u001b[0m\u001b[0mn_components\u001b[0m\u001b[0;34m,\u001b[0m \u001b[0;34m[\u001b[0m\u001b[0mm\u001b[0m\u001b[0;34m.\u001b[0m\u001b[0mbic\u001b[0m\u001b[0;34m(\u001b[0m\u001b[0mimg2\u001b[0m\u001b[0;34m)\u001b[0m \u001b[0;32mfor\u001b[0m \u001b[0mm\u001b[0m \u001b[0;32min\u001b[0m \u001b[0mgmm_models\u001b[0m\u001b[0;34m]\u001b[0m\u001b[0;34m,\u001b[0m \u001b[0mlabel\u001b[0m\u001b[0;34m=\u001b[0m\u001b[0;34m'BIC'\u001b[0m\u001b[0;34m)\u001b[0m\u001b[0;34m\u001b[0m\u001b[0;34m\u001b[0m\u001b[0m\n\u001b[0;32m---> 34\u001b[0;31m \u001b[0mplt\u001b[0m\u001b[0;34m.\u001b[0m\u001b[0mxlable\u001b[0m\u001b[0;34m(\u001b[0m\u001b[0;34m'n_components'\u001b[0m\u001b[0;34m)\u001b[0m\u001b[0;34m\u001b[0m\u001b[0;34m\u001b[0m\u001b[0m\n\u001b[0m\u001b[1;32m     35\u001b[0m \u001b[0mplt\u001b[0m\u001b[0;34m.\u001b[0m\u001b[0mshow\u001b[0m\u001b[0;34m(\u001b[0m\u001b[0;34m)\u001b[0m\u001b[0;34m\u001b[0m\u001b[0;34m\u001b[0m\u001b[0m\n",
      "\u001b[0;31mAttributeError\u001b[0m: module 'matplotlib.pyplot' has no attribute 'xlable'"
     ]
    },
    {
     "data": {
      "image/png": "[encoded data removed]",
      "text/plain": [
       "<Figure size 432x288 with 1 Axes>"
      ]
     },
     "metadata": {
      "needs_background": "light"
     },
     "output_type": "display_data"
    }
   ],
   "source": [
    "import numpy as np\n",
    "import cv2\n",
    "\n",
    "img = cv2.imread(\"images/Alloy.jpg\")\n",
    "\n",
    "img2 = img.reshape((-1,3))\n",
    "\n",
    "from sklearn.mixture import GaussianMixture as GMM\n",
    "\n",
    "#####################\n",
    "#This part calculate BIC\n",
    "\n",
    "n = 2\n",
    "gmm_model = GMM(n, covariance_type='tied').fit(img2)\n",
    "\n",
    "#print(gmm_model)\n",
    "\n",
    "bic_values = gmm_model.bic(img2)\n",
    "print(bic_values)\n",
    "\n",
    "\n",
    "\n",
    "n_components = np.arange(1,10)\n",
    "\n",
    "gmm_models = [GMM(n, covariance_type='tied').fit(img2) for n in n_components]\n",
    "\n",
    "#print(gmm_models)\n",
    "\n",
    "\n",
    "# print(GMM.bic(img2))\n",
    "\n",
    "from matplotlib import pyplot as plt\n",
    "plt.plot(n_components, [m.bic(img2) for m in gmm_models], label='BIC')\n",
    "plt.xlabel('n_components')\n",
    "plt.show()"
   ]
  },
  {
   "cell_type": "code",
   "execution_count": null,
   "metadata": {},
   "outputs": [],
   "source": []
  }
 ],
 "metadata": {
  "kernelspec": {
   "display_name": "Python 3",
   "language": "python",
   "name": "python3"
  },
  "language_info": {
   "codemirror_mode": {
    "name": "ipython",
    "version": 3
   },
   "file_extension": ".py",
   "mimetype": "text/x-python",
   "name": "python",
   "nbconvert_exporter": "python",
   "pygments_lexer": "ipython3",
   "version": "3.6.9"
  }
 },
 "nbformat": 4,
 "nbformat_minor": 4
}
