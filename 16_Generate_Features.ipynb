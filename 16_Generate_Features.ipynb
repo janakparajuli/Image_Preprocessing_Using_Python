{
 "cells": [
  {
   "cell_type": "markdown",
   "metadata": {},
   "source": [
    "# How to generate features in images\n",
    "\n",
    "**What are features?**\n",
    "\n",
    "Generating features in image processing context means applying a bunch of filters that describes the data (images) for example, features that describe the regions of interest, edge detetcion and other filters that can enhance the information. Some general features of an Image are :\n",
    "\n",
    "- Pixel (Brightness) Values or intesity\n",
    "- Edges\n",
    "- Textures\n",
    "- Orientation\n",
    "- Local Contrast\n",
    "\n",
    "**Feature Vector :** List of pixel values at a given pixel there and each value corresponds to the pixel value for the feature or the filter that we have actually applied.\n",
    "\n",
    "- If we have applied 10 filters then the size of feature vector will be 11 Dimensional (Original + Filters).\n",
    "\n",
    "- If we know what filter is working well with our image then we don't need ML. But if we don't know what combination of these features will describr the region of interest for example, the grey level is same but the texture is different. So we will be needing feature that probably describes the texture of this region."
   ]
  },
  {
   "cell_type": "code",
   "execution_count": 5,
   "metadata": {},
   "outputs": [],
   "source": [
    "#A few generic filters...\n",
    "\n",
    "import cv2\n",
    "from skimage.filters.rank import entropy\n",
    "from skimage.morphology import disk\n",
    "import pandas as pd\n",
    "\n",
    "img = cv2.imread('images/scratch.jpg')\n",
    "img = cv2.cvtColor(img, cv2.COLOR_BGR2GRAY)"
   ]
  },
  {
   "cell_type": "markdown",
   "metadata": {},
   "source": [
    "If you opne the image you can observe that this is tough image to segment using traditional histogram segmentation. As human we can see that the side areas have lots of texture and the scratch i.e., the area in the middle is flat. But how do we segment these regions ?\n",
    "\n",
    "A good filter to apply in such a scenario would be **Entropy Filter**. Entropy is lack of order or we can say it is a measure of diorder. In context of this image we can say that there is more disorder in the two sides of this image than the flat region in the centre."
   ]
  },
  {
   "cell_type": "code",
   "execution_count": 7,
   "metadata": {},
   "outputs": [],
   "source": [
    "from skimage.filters.rank import entropy\n",
    "from skimage.morphology import disk  #we need to specify `disk` in entropy, it's like specifying a kernel\n",
    "\n",
    "entropy_img = entropy(img, disk(1))\n",
    "\n",
    "cv2.imshow('original image', img)\n",
    "cv2.imshow('entropy', entropy_img)\n",
    "cv2.waitKey()\n",
    "cv2.destroyAllWindows()"
   ]
  },
  {
   "cell_type": "markdown",
   "metadata": {},
   "source": [
    "The region where there is some order (centre) the entropy value is low. So entropy is a good filter to describe this image. Or we can say it extracts the features well from the image. Let's see another example."
   ]
  },
  {
   "cell_type": "code",
   "execution_count": 9,
   "metadata": {},
   "outputs": [],
   "source": [
    "import cv2\n",
    "from skimage.filters.rank import entropy\n",
    "from skimage.morphology import disk\n",
    "import pandas as pd\n",
    "\n",
    "img = cv2.imread('images/Yeast_Cells.png')\n",
    "img = cv2.cvtColor(img, cv2.COLOR_BGR2GRAY)\n",
    "\n",
    "entropy_img = entropy(img, disk(1))\n",
    "\n",
    "cv2.imshow('original image', img)\n",
    "cv2.imshow('entropy', entropy_img)\n",
    "cv2.waitKey()\n",
    "cv2.destroyAllWindows()"
   ]
  },
  {
   "cell_type": "markdown",
   "metadata": {},
   "source": [
    "So in this case `entropy` is definitely not a good filter to describe this image.\n",
    "\n",
    "Lets try another filter called **Gaussian Blur**"
   ]
  },
  {
   "cell_type": "code",
   "execution_count": 10,
   "metadata": {},
   "outputs": [],
   "source": [
    "import cv2\n",
    "from scipy import ndimage as nd\n",
    "\n",
    "img = cv2.imread('images/Yeast_Cells.png')\n",
    "img = cv2.cvtColor(img, cv2.COLOR_BGR2GRAY)\n",
    "\n",
    "gaussian_img = nd.gaussian_filter(img, sigma=3)\n",
    "\n",
    "cv2.imshow('original image', img)\n",
    "cv2.imshow('Gaussian', gaussian_img)\n",
    "cv2.waitKey()\n",
    "cv2.destroyAllWindows()"
   ]
  },
  {
   "cell_type": "markdown",
   "metadata": {},
   "source": [
    "No sure, whether it is desribing anything or not in the image. Hence it may or may not be useful for the machine.\n",
    "\n",
    "Let's try one more filter called **Sobel Filter** which performs very good in extracting edges"
   ]
  },
  {
   "cell_type": "code",
   "execution_count": 11,
   "metadata": {},
   "outputs": [],
   "source": [
    "import cv2\n",
    "from skimage.filters import sobel\n",
    "\n",
    "img = cv2.imread('images/Yeast_Cells.png')\n",
    "img = cv2.cvtColor(img, cv2.COLOR_BGR2GRAY)\n",
    "\n",
    "sobel_img = sobel(img)\n",
    "\n",
    "cv2.imshow('original image', img)\n",
    "cv2.imshow('Sobel', sobel_img)\n",
    "cv2.waitKey()\n",
    "cv2.destroyAllWindows()"
   ]
  },
  {
   "cell_type": "markdown",
   "metadata": {},
   "source": [
    "So sobel image gives us the region with hard edges so this can be a very good filter  to separate the cells in this image.\n",
    "\n",
    "---\n",
    "\n",
    "There are n number of filters available, we can find them in the documentation of skimage. But the question now is how to put this information together to create a panda's data frame which we can use as a input in out machine learning algorithms."
   ]
  },
  {
   "cell_type": "code",
   "execution_count": 14,
   "metadata": {},
   "outputs": [
    {
     "name": "stdout",
     "output_type": "stream",
     "text": [
      "        Original Image   Entropy  Gaussian  Sobel\n",
      "0                  105  1.584963       114    0.0\n",
      "1                  118  2.000000       115    0.0\n",
      "2                  129  1.500000       116    0.0\n",
      "3                  129  1.500000       117    0.0\n",
      "4                  126  1.500000       118    0.0\n",
      "...                ...       ...       ...    ...\n",
      "115595             123  2.000000       123    0.0\n",
      "115596             122  1.500000       123    0.0\n",
      "115597             123  2.000000       124    0.0\n",
      "115598             119  2.000000       125    0.0\n",
      "115599             126  1.584963       125    0.0\n",
      "\n",
      "[115600 rows x 4 columns]\n"
     ]
    }
   ],
   "source": [
    "import cv2\n",
    "from skimage.filters.rank import entropy\n",
    "from skimage.morphology import disk\n",
    "import pandas as pd\n",
    "\n",
    "img = cv2.imread('images/scratch.jpg')\n",
    "img = cv2.cvtColor(img, cv2.COLOR_BGR2GRAY)\n",
    "\n",
    "# img = cv2.imread('imagees/Yeast_Cells.png')\n",
    "# img = cv2.cvtColor(img, cv2.COLOR_BGR2GRAY)\n",
    "\n",
    "img2 = img.reshape(-1) #to covert the image into one single list i.e., flattening\n",
    "\n",
    "df = pd.DataFrame()    #creating an empty data frame\n",
    "df['Original Image'] = img2    #adding a column 'Original Image'and fill it with the list of pixel values of original image\n",
    "\n",
    "\n",
    "entropy_img = entropy(img, disk(1))    #applying entropy filter\n",
    "\n",
    "entropy1 = entropy_img.reshape(-1)    #flattening the image obtained after entropy filter\n",
    "df['Entropy'] = entropy1    #another column for entropy and filling it with the list of pixel values after applying entropy filter\n",
    "#print(df)\n",
    "\n",
    "from scipy import ndimage as nd\n",
    "#import numpy as np\n",
    "gaussian_img = nd.gaussian_filter(img, sigma=3)\n",
    "gaussian_img1 = gaussian_img.reshape(-1)\n",
    "df['Gaussian'] = gaussian_img1\n",
    "\n",
    "\n",
    "from skimage.filters import sobel\n",
    "sobel_img = sobel(img)\n",
    "sobel1 = sobel_img.reshape(-1)\n",
    "df['Sobel'] = sobel1\n",
    "\n",
    "\n",
    "print(df)"
   ]
  },
  {
   "cell_type": "markdown",
   "metadata": {},
   "source": [
    "Now our data frame is ready to go into a machine learning algorithm, where it can train and create a model."
   ]
  },
  {
   "cell_type": "code",
   "execution_count": null,
   "metadata": {},
   "outputs": [],
   "source": []
  }
 ],
 "metadata": {
  "kernelspec": {
   "display_name": "Python 3",
   "language": "python",
   "name": "python3"
  },
  "language_info": {
   "codemirror_mode": {
    "name": "ipython",
    "version": 3
   },
   "file_extension": ".py",
   "mimetype": "text/x-python",
   "name": "python",
   "nbconvert_exporter": "python",
   "pygments_lexer": "ipython3",
   "version": "3.6.9"
  }
 },
 "nbformat": 4,
 "nbformat_minor": 4
}
