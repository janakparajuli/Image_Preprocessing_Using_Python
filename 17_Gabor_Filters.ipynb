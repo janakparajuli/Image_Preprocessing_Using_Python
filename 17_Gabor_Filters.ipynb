{
 "cells": [
  {
   "cell_type": "markdown",
   "metadata": {},
   "source": [
    "# Gabor Filter\n",
    "\n",
    "For image processing and computer vision, Gabor filters are generally used in texture analysis, edge detection, feature extraction, etc. \n",
    "\n",
    "It is a useful filter especially when we are looking at the features that are oriented in a specific direction for example, lets say we are working on images of sedimentary rock and we all know that in a sedimentray rock, the bedding layers are all horizontal. So how do you separate these horizontal layers ? \n",
    "\n",
    "As an answer to this question, we can apply Gabor Filter with an orientation of 0 degree.\n",
    "\n",
    "Similarly we can do it for vertical features or at any angle. Thus Gabor filter is multiple filters in one.\n",
    "\n",
    "Gabor filters are band pass filters; meaning they allow certain band  of frequencies and reject other types."
   ]
  },
  {
   "cell_type": "markdown",
   "metadata": {},
   "source": [
    "### Parameters of Gabor Filter:\n",
    "\n",
    "- `ksize` Size of the filter returned.\n",
    "- `sigma` Standard deviation of the gaussian envelope.\n",
    "- `theta` Orientation of the normal to the parallel stripes of a Gabor function.\n",
    "- `lambda` Wavelength of the sinusoidal factor.\n",
    "- `gamma` Spatial aspect ratio.\n",
    "- `psi` Phase offset.\n",
    "- `ktype` Type of filter coefficients. It can be CV_32F or CV_64F. It indicates the type and range of values that each pixel in the Gabor kernel can hold. Basically float32 or float64"
   ]
  },
  {
   "cell_type": "code",
   "execution_count": 1,
   "metadata": {},
   "outputs": [
    {
     "data": {
      "text/plain": [
       "<matplotlib.image.AxesImage at 0x7f7dbeac0160>"
      ]
     },
     "execution_count": 1,
     "metadata": {},
     "output_type": "execute_result"
    },
    {
     "data": {
      "image/png": "[encoded data removed]",
      "text/plain": [
       "<Figure size 432x288 with 1 Axes>"
      ]
     },
     "metadata": {
      "needs_background": "light"
     },
     "output_type": "display_data"
    }
   ],
   "source": [
    "import numpy as np\n",
    "import cv2\n",
    "import matplotlib.pyplot as plt\n",
    "\n",
    "ksize = 5  #Use size that makes sense to the image and fetaure size. Large may not be good. \n",
    "#On the synthetic image it is clear how ksize affects imgae (try 5 and 50)\n",
    "\n",
    "sigma = 3 #Large sigma on small features will fully miss the features. \n",
    "\n",
    "theta = 1*np.pi/4  #/4 shows horizontal 3/4 shows other horizontal. Try other contributions\n",
    "\n",
    "lamda = 1*np.pi /4  #1/4 works best for angled. \n",
    "\n",
    "gamma=0.4  #Value of 1 defines spherical. Calue close to 0 has high aspect ratio\n",
    "#Value of 1, spherical may not be ideal as it picks up features from other regions.\n",
    "\n",
    "phi = 0  #Phase offset. I leave it to 0. \n",
    "\n",
    "\n",
    "kernel = cv2.getGaborKernel((ksize, ksize), sigma, theta, lamda, gamma, phi, ktype=cv2.CV_32F)\n",
    "\n",
    "plt.imshow(kernel)"
   ]
  },
  {
   "cell_type": "markdown",
   "metadata": {},
   "source": [
    "We have plotted the kernel in above cell. If we look at the plot you can observe that since `theta = 1*np.pi/4 ` the kernel is actually rotated by 45 degrees.\n",
    "\n",
    "Let try a bigger kernel size, say `kszie=50`"
   ]
  },
  {
   "cell_type": "code",
   "execution_count": 3,
   "metadata": {},
   "outputs": [
    {
     "data": {
      "text/plain": [
       "<matplotlib.image.AxesImage at 0x7f7dbe56b3c8>"
      ]
     },
     "execution_count": 3,
     "metadata": {},
     "output_type": "execute_result"
    },
    {
     "data": {
      "image/png": "[encoded data removed]",
      "text/plain": [
       "<Figure size 432x288 with 1 Axes>"
      ]
     },
     "metadata": {
      "needs_background": "light"
     },
     "output_type": "display_data"
    }
   ],
   "source": [
    "ksize = 50  \n",
    "sigma = 3 \n",
    "theta = 1*np.pi/4  \n",
    "lamda = 1*np.pi /4  \n",
    "gamma=0.4  \n",
    "phi = 0  \n",
    "\n",
    "kernel = cv2.getGaborKernel((ksize, ksize), sigma, theta, lamda, gamma, phi, ktype=cv2.CV_32F)\n",
    "\n",
    "plt.imshow(kernel)"
   ]
  },
  {
   "cell_type": "markdown",
   "metadata": {},
   "source": [
    "Let change the value of sigma now, say `sigma=30`"
   ]
  },
  {
   "cell_type": "code",
   "execution_count": 4,
   "metadata": {},
   "outputs": [
    {
     "data": {
      "text/plain": [
       "<matplotlib.image.AxesImage at 0x7f7dbe549710>"
      ]
     },
     "execution_count": 4,
     "metadata": {},
     "output_type": "execute_result"
    },
    {
     "data": {
      "image/png": "[encoded data removed]",
      "text/plain": [
       "<Figure size 432x288 with 1 Axes>"
      ]
     },
     "metadata": {
      "needs_background": "light"
     },
     "output_type": "display_data"
    }
   ],
   "source": [
    "ksize = 50  \n",
    "sigma = 30 \n",
    "theta = 1*np.pi/4  \n",
    "lamda = 1*np.pi /4  \n",
    "gamma=0.4  \n",
    "phi = 0  \n",
    "\n",
    "kernel = cv2.getGaborKernel((ksize, ksize), sigma, theta, lamda, gamma, phi, ktype=cv2.CV_32F)\n",
    "\n",
    "plt.imshow(kernel)"
   ]
  },
  {
   "cell_type": "markdown",
   "metadata": {},
   "source": [
    "Now let's change np.pi/2 instead of pi/4."
   ]
  },
  {
   "cell_type": "code",
   "execution_count": 5,
   "metadata": {},
   "outputs": [
    {
     "data": {
      "text/plain": [
       "<matplotlib.image.AxesImage at 0x7f7dbe528828>"
      ]
     },
     "execution_count": 5,
     "metadata": {},
     "output_type": "execute_result"
    },
    {
     "data": {
      "image/png": "[encoded data removed]",
      "text/plain": [
       "<Figure size 432x288 with 1 Axes>"
      ]
     },
     "metadata": {
      "needs_background": "light"
     },
     "output_type": "display_data"
    }
   ],
   "source": [
    "ksize = 50  \n",
    "sigma = 30 \n",
    "theta = 1*np.pi/2  \n",
    "lamda = 1*np.pi /4  \n",
    "gamma=0.4  \n",
    "phi = 0  \n",
    "\n",
    "kernel = cv2.getGaborKernel((ksize, ksize), sigma, theta, lamda, gamma, phi, ktype=cv2.CV_32F)\n",
    "\n",
    "plt.imshow(kernel)"
   ]
  },
  {
   "cell_type": "markdown",
   "metadata": {},
   "source": [
    "so now it's horizontal as you can see. "
   ]
  },
  {
   "cell_type": "code",
   "execution_count": 6,
   "metadata": {},
   "outputs": [
    {
     "data": {
      "text/plain": [
       "<matplotlib.image.AxesImage at 0x7f7dbe4858d0>"
      ]
     },
     "execution_count": 6,
     "metadata": {},
     "output_type": "execute_result"
    },
    {
     "data": {
      "image/png": "[encoded data removed]",
      "text/plain": [
       "<Figure size 432x288 with 1 Axes>"
      ]
     },
     "metadata": {
      "needs_background": "light"
     },
     "output_type": "display_data"
    }
   ],
   "source": [
    "ksize = 50  \n",
    "sigma = 30 \n",
    "theta = 1*np.pi \n",
    "lamda = 1*np.pi /4  \n",
    "gamma=0.4  \n",
    "phi = 0  \n",
    "\n",
    "kernel = cv2.getGaborKernel((ksize, ksize), sigma, theta, lamda, gamma, phi, ktype=cv2.CV_32F)\n",
    "\n",
    "plt.imshow(kernel)"
   ]
  },
  {
   "cell_type": "markdown",
   "metadata": {},
   "source": [
    "If we just do `np.pi` which is nothing but just pi right now it's all vertical. \n",
    "\n",
    "so if you are looking for features that are horizontal then by applying this horizontal filter you're actually passing these horizontal features through and then blocking everything that's vertical exactly vice versa.\n",
    "\n",
    "now let's change `lamda` which is nothing but our wavelength or frequency and let's see how the wavelength affects "
   ]
  },
  {
   "cell_type": "code",
   "execution_count": 7,
   "metadata": {},
   "outputs": [
    {
     "data": {
      "text/plain": [
       "<matplotlib.image.AxesImage at 0x7f7dbe464ac8>"
      ]
     },
     "execution_count": 7,
     "metadata": {},
     "output_type": "execute_result"
    },
    {
     "data": {
      "image/png": "[encoded data removed]",
      "text/plain": [
       "<Figure size 432x288 with 1 Axes>"
      ]
     },
     "metadata": {
      "needs_background": "light"
     },
     "output_type": "display_data"
    }
   ],
   "source": [
    "ksize = 50  \n",
    "sigma = 30 \n",
    "theta = 1*np.pi /4\n",
    "lamda = 1*np.pi /16  \n",
    "gamma=0.5  \n",
    "phi = 0  \n",
    "\n",
    "kernel = cv2.getGaborKernel((ksize, ksize), sigma, theta, lamda, gamma, phi, ktype=cv2.CV_32F)\n",
    "\n",
    "plt.imshow(kernel)"
   ]
  },
  {
   "cell_type": "markdown",
   "metadata": {},
   "source": [
    "you can clearly visualize the wavelength change between these two images keeping everything else the same"
   ]
  },
  {
   "cell_type": "code",
   "execution_count": 8,
   "metadata": {},
   "outputs": [
    {
     "data": {
      "text/plain": [
       "<matplotlib.image.AxesImage at 0x7f7dbe3c3b70>"
      ]
     },
     "execution_count": 8,
     "metadata": {},
     "output_type": "execute_result"
    },
    {
     "data": {
      "image/png": "[encoded data removed]",
      "text/plain": [
       "<Figure size 432x288 with 1 Axes>"
      ]
     },
     "metadata": {
      "needs_background": "light"
     },
     "output_type": "display_data"
    }
   ],
   "source": [
    "ksize = 50  \n",
    "sigma = 3 \n",
    "theta = 1*np.pi /4\n",
    "lamda = 1*np.pi /4  \n",
    "gamma=1  \n",
    "phi = 0  \n",
    "\n",
    "kernel = cv2.getGaborKernel((ksize, ksize), sigma, theta, lamda, gamma, phi, ktype=cv2.CV_32F)\n",
    "\n",
    "plt.imshow(kernel)"
   ]
  },
  {
   "cell_type": "markdown",
   "metadata": {},
   "source": [
    "if we change `gamma` to 1 that means it's nothing but X^2 + Y^2 squared which defines a circle  so our aspect ratio reflects a circular kernel. \n",
    "\n",
    "If `gamma = 0.01` almost zero right so now we should have like a very elongated kernel.  "
   ]
  },
  {
   "cell_type": "code",
   "execution_count": 9,
   "metadata": {},
   "outputs": [
    {
     "data": {
      "text/plain": [
       "<matplotlib.image.AxesImage at 0x7f7dbe39bc88>"
      ]
     },
     "execution_count": 9,
     "metadata": {},
     "output_type": "execute_result"
    },
    {
     "data": {
      "image/png": "[encoded data removed]",
      "text/plain": [
       "<Figure size 432x288 with 1 Axes>"
      ]
     },
     "metadata": {
      "needs_background": "light"
     },
     "output_type": "display_data"
    }
   ],
   "source": [
    "ksize = 50  \n",
    "sigma = 3 \n",
    "theta = 1*np.pi /4\n",
    "lamda = 1*np.pi /4  \n",
    "gamma=0.01  \n",
    "phi = 0  \n",
    "\n",
    "kernel = cv2.getGaborKernel((ksize, ksize), sigma, theta, lamda, gamma, phi, ktype=cv2.CV_32F)\n",
    "\n",
    "plt.imshow(kernel)"
   ]
  },
  {
   "cell_type": "markdown",
   "metadata": {},
   "source": [
    "as you can see that's the aspect ratio so this is more circular this is more elongated."
   ]
  },
  {
   "cell_type": "markdown",
   "metadata": {},
   "source": [
    "Now what is the right value for any of these paraemters ? \n",
    "\n",
    "Well for the `ksize` the kernel size use a size that makes sense to the image and the feature size. If your features are smaller like down to like a couple of pixel level then having a 50 pixel sized kernel may you may overlook these\n",
    "features.In fact when we generate features for our machine learning we are going to suite through this parameter space meaning; we're gonna create a filter Bank by changing the `Sigma`, `Thetha` `Lambda` `gamma` `phi`and `kernel size`.\n",
    "\n",
    "Now which Sigma should you be using, again large Sigma on small features means you may miss these small features.\n",
    "\n",
    "It completely depends on what you're trying to extract from your image and Gobel kernels are amazing for texture if you have two different regions with very similar gray level but you can see it but you cannot extract them separate\n",
    "them you know using any of the other digital filters or your histogram try\n",
    "Gabor filter this works like charm.\n",
    "\n",
    "**In Gabor filter we actually create a digital filter effectively.** \n",
    "\n",
    "Lets apply this on an actual image and then see how it looks like."
   ]
  },
  {
   "cell_type": "code",
   "execution_count": 15,
   "metadata": {},
   "outputs": [],
   "source": [
    "import numpy as np\n",
    "import cv2\n",
    "import matplotlib.pyplot as plt\n",
    "\n",
    "\n",
    "ksize = 5  \n",
    "sigma = 3 \n",
    "theta = 1*np.pi /4\n",
    "lamda = 1*np.pi /4  \n",
    "gamma=0.01  \n",
    "phi = 0  \n",
    "\n",
    "kernel = cv2.getGaborKernel((ksize, ksize), sigma, theta, lamda, gamma, phi, ktype=cv2.CV_32F)\n",
    "\n",
    "img = cv2.imread('synthetic.JPG')\n",
    "img = cv2.cvtColor(img, cv2.COLOR_BGR2GRAY)\n",
    "\n",
    "fimg = cv2.filter2D(img, cv2.CV_8UC3, kernel)\n",
    "kernel_resized = cv2.resize(kernel, (400, 400))       # Resize image\n",
    "\n",
    "cv2.imshow('Kernel', kernel_resized)\n",
    "cv2.imshow('Original Img.', img)\n",
    "cv2.imshow('Filtered', fimg)\n",
    "cv2.waitKey(0)\n",
    "cv2.destroyAllWindows()"
   ]
  },
  {
   "cell_type": "markdown",
   "metadata": {},
   "source": [
    "Because our `theta` here is `np.pi/4` which is 45 degrees. We should only see the lines that are 45 degrees."
   ]
  },
  {
   "cell_type": "code",
   "execution_count": 16,
   "metadata": {},
   "outputs": [],
   "source": [
    "import numpy as np\n",
    "import cv2\n",
    "import matplotlib.pyplot as plt\n",
    "\n",
    "\n",
    "ksize = 5  \n",
    "sigma = 3 \n",
    "theta = 3*np.pi /4\n",
    "lamda = 1*np.pi /4  \n",
    "gamma=0.01  \n",
    "phi = 0  \n",
    "\n",
    "kernel = cv2.getGaborKernel((ksize, ksize), sigma, theta, lamda, gamma, phi, ktype=cv2.CV_32F)\n",
    "\n",
    "img = cv2.imread('synthetic.JPG')\n",
    "img = cv2.cvtColor(img, cv2.COLOR_BGR2GRAY)\n",
    "\n",
    "fimg = cv2.filter2D(img, cv2.CV_8UC3, kernel)\n",
    "kernel_resized = cv2.resize(kernel, (400, 400))       # Resize image\n",
    "\n",
    "cv2.imshow('Kernel', kernel_resized)\n",
    "cv2.imshow('Original Img.', img)\n",
    "cv2.imshow('Filtered', fimg)\n",
    "cv2.waitKey(0)\n",
    "cv2.destroyAllWindows()"
   ]
  },
  {
   "cell_type": "code",
   "execution_count": 10,
   "metadata": {},
   "outputs": [
    {
     "data": {
      "image/png": "[encoded data removed]",
      "text/plain": [
       "<Figure size 432x288 with 1 Axes>"
      ]
     },
     "metadata": {
      "needs_background": "light"
     },
     "output_type": "display_data"
    }
   ],
   "source": [
    "# import numpy as np\n",
    "# import cv2\n",
    "# import matplotlib.pyplot as plt\n",
    "\n",
    "# ksize = 5  \n",
    "# sigma = 3 \n",
    "# theta = 1*np.pi /4\n",
    "# lamda = 1*np.pi /4  \n",
    "# gamma=0.01  \n",
    "# phi = 0  \n",
    "\n",
    "# kernel = cv2.getGaborKernel((ksize, ksize), sigma, theta, lamda, gamma, phi, ktype=cv2.CV_32F)\n",
    "\n",
    "# img = cv2.imread('BSE_Image.jpg')\n",
    "\n",
    "# img = cv2.cvtColor(img, cv2.COLOR_BGR2GRAY)     #convert image to grayscale\n",
    "# fimg = cv2.filter2D(img, cv2.CV_8UC3, kernel)   #applying Gabor Kernel\n",
    "\n",
    "# kernel_resized = cv2.resize(kernel, (400, 400))       # Resize image\n",
    "\n",
    "# cv2.imshow('Kernel', kernel_resized)\n",
    "# cv2.imshow('Original Img.', img)\n",
    "# cv2.imshow('Filtered', fimg)\n",
    "# cv2.waitKey(5000)\n",
    "# cv2.destroyAllWindows()"
   ]
  },
  {
   "cell_type": "code",
   "execution_count": null,
   "metadata": {},
   "outputs": [],
   "source": []
  }
 ],
 "metadata": {
  "kernelspec": {
   "display_name": "Python 3",
   "language": "python",
   "name": "python3"
  },
  "language_info": {
   "codemirror_mode": {
    "name": "ipython",
    "version": 3
   },
   "file_extension": ".py",
   "mimetype": "text/x-python",
   "name": "python",
   "nbconvert_exporter": "python",
   "pygments_lexer": "ipython3",
   "version": "3.6.9"
  }
 },
 "nbformat": 4,
 "nbformat_minor": 4
}
