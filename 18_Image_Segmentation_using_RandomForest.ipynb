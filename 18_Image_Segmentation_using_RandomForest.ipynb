{
 "cells": [
  {
   "cell_type": "markdown",
   "metadata": {},
   "source": [
    "## Step 1 : Feature Extraction and organizing in a data frame"
   ]
  },
  {
   "cell_type": "code",
   "execution_count": 1,
   "metadata": {},
   "outputs": [],
   "source": [
    "import numpy as np\n",
    "import cv2\n",
    "import pandas as pd\n",
    " \n",
    "#img = cv2.imread('BSE_Image.jpg')\n",
    "img = cv2.imread('images/Train_images/Sandstone_Versa0000.tif')\n",
    "img = cv2.cvtColor(img, cv2.COLOR_BGR2GRAY)  "
   ]
  },
  {
   "cell_type": "markdown",
   "metadata": {},
   "source": [
    "#Here, if you have multichannel image then extract the right channel instead of converting the image to grey. \n",
    "#For example, if DAPI contains nuclei information, extract the DAPI channel image first. \n",
    "\n",
    "#Multiple images can be used for training. For that, you need to concatenate the data\n"
   ]
  },
  {
   "cell_type": "code",
   "execution_count": 2,
   "metadata": {},
   "outputs": [],
   "source": [
    "#Save original image pixels into a data frame. This is our Feature #1.\n",
    "img2 = img.reshape(-1)\n",
    "df = pd.DataFrame()\n",
    "df['Original Image'] = img2"
   ]
  },
  {
   "cell_type": "code",
   "execution_count": 3,
   "metadata": {},
   "outputs": [
    {
     "name": "stdout",
     "output_type": "stream",
     "text": [
      "Gabor1 : theta= 0.0 : sigma= 1 : lamda= 0.0 : gamma= 0.05\n",
      "Gabor2 : theta= 0.0 : sigma= 1 : lamda= 0.0 : gamma= 0.5\n",
      "Gabor3 : theta= 0.0 : sigma= 1 : lamda= 0.7853981633974483 : gamma= 0.05\n",
      "Gabor4 : theta= 0.0 : sigma= 1 : lamda= 0.7853981633974483 : gamma= 0.5\n",
      "Gabor5 : theta= 0.0 : sigma= 1 : lamda= 1.5707963267948966 : gamma= 0.05\n",
      "Gabor6 : theta= 0.0 : sigma= 1 : lamda= 1.5707963267948966 : gamma= 0.5\n",
      "Gabor7 : theta= 0.0 : sigma= 1 : lamda= 2.356194490192345 : gamma= 0.05\n",
      "Gabor8 : theta= 0.0 : sigma= 1 : lamda= 2.356194490192345 : gamma= 0.5\n",
      "Gabor9 : theta= 0.0 : sigma= 3 : lamda= 0.0 : gamma= 0.05\n",
      "Gabor10 : theta= 0.0 : sigma= 3 : lamda= 0.0 : gamma= 0.5\n",
      "Gabor11 : theta= 0.0 : sigma= 3 : lamda= 0.7853981633974483 : gamma= 0.05\n",
      "Gabor12 : theta= 0.0 : sigma= 3 : lamda= 0.7853981633974483 : gamma= 0.5\n",
      "Gabor13 : theta= 0.0 : sigma= 3 : lamda= 1.5707963267948966 : gamma= 0.05\n",
      "Gabor14 : theta= 0.0 : sigma= 3 : lamda= 1.5707963267948966 : gamma= 0.5\n",
      "Gabor15 : theta= 0.0 : sigma= 3 : lamda= 2.356194490192345 : gamma= 0.05\n",
      "Gabor16 : theta= 0.0 : sigma= 3 : lamda= 2.356194490192345 : gamma= 0.5\n",
      "Gabor17 : theta= 0.7853981633974483 : sigma= 1 : lamda= 0.0 : gamma= 0.05\n",
      "Gabor18 : theta= 0.7853981633974483 : sigma= 1 : lamda= 0.0 : gamma= 0.5\n",
      "Gabor19 : theta= 0.7853981633974483 : sigma= 1 : lamda= 0.7853981633974483 : gamma= 0.05\n",
      "Gabor20 : theta= 0.7853981633974483 : sigma= 1 : lamda= 0.7853981633974483 : gamma= 0.5\n",
      "Gabor21 : theta= 0.7853981633974483 : sigma= 1 : lamda= 1.5707963267948966 : gamma= 0.05\n",
      "Gabor22 : theta= 0.7853981633974483 : sigma= 1 : lamda= 1.5707963267948966 : gamma= 0.5\n",
      "Gabor23 : theta= 0.7853981633974483 : sigma= 1 : lamda= 2.356194490192345 : gamma= 0.05\n",
      "Gabor24 : theta= 0.7853981633974483 : sigma= 1 : lamda= 2.356194490192345 : gamma= 0.5\n",
      "Gabor25 : theta= 0.7853981633974483 : sigma= 3 : lamda= 0.0 : gamma= 0.05\n",
      "Gabor26 : theta= 0.7853981633974483 : sigma= 3 : lamda= 0.0 : gamma= 0.5\n",
      "Gabor27 : theta= 0.7853981633974483 : sigma= 3 : lamda= 0.7853981633974483 : gamma= 0.05\n",
      "Gabor28 : theta= 0.7853981633974483 : sigma= 3 : lamda= 0.7853981633974483 : gamma= 0.5\n",
      "Gabor29 : theta= 0.7853981633974483 : sigma= 3 : lamda= 1.5707963267948966 : gamma= 0.05\n",
      "Gabor30 : theta= 0.7853981633974483 : sigma= 3 : lamda= 1.5707963267948966 : gamma= 0.5\n",
      "Gabor31 : theta= 0.7853981633974483 : sigma= 3 : lamda= 2.356194490192345 : gamma= 0.05\n",
      "Gabor32 : theta= 0.7853981633974483 : sigma= 3 : lamda= 2.356194490192345 : gamma= 0.5\n"
     ]
    }
   ],
   "source": [
    "#Generate Gabor features\n",
    "num = 1  #To count numbers up in order to give Gabor features a lable in the data frame\n",
    "kernels = []\n",
    "for theta in range(2):   #Define number of thetas\n",
    "    theta = theta / 4. * np.pi\n",
    "    for sigma in (1, 3):  #Sigma with 1 and 3\n",
    "        for lamda in np.arange(0, np.pi, np.pi / 4):   #Range of wavelengths\n",
    "            for gamma in (0.05, 0.5):   #Gamma values of 0.05 and 0.5\n",
    "            \n",
    "                \n",
    "                gabor_label = 'Gabor' + str(num)  #Label Gabor columns as Gabor1, Gabor2, etc.\n",
    "#                print(gabor_label)\n",
    "                ksize=9\n",
    "                kernel = cv2.getGaborKernel((ksize, ksize), sigma, theta, lamda, gamma, 0, ktype=cv2.CV_32F)    \n",
    "                kernels.append(kernel)\n",
    "                #Now filter the image and add values to a new column \n",
    "                fimg = cv2.filter2D(img2, cv2.CV_8UC3, kernel)\n",
    "                filtered_img = fimg.reshape(-1)\n",
    "                df[gabor_label] = filtered_img  #Labels columns as Gabor1, Gabor2, etc.\n",
    "                print(gabor_label, ': theta=', theta, ': sigma=', sigma, ': lamda=', lamda, ': gamma=', gamma)\n",
    "                num += 1  #Increment for gabor column label\n",
    "                \n",
    "########################################"
   ]
  },
  {
   "cell_type": "code",
   "execution_count": 4,
   "metadata": {},
   "outputs": [],
   "source": [
    "#Gerate OTHER FEATURES and add them to the data frame\n",
    "                \n",
    "#CANNY EDGE\n",
    "edges = cv2.Canny(img, 100,200)   #Image, min and max values\n",
    "edges1 = edges.reshape(-1)\n",
    "df['Canny Edge'] = edges1 #Add column to original dataframe\n",
    "\n",
    "from skimage.filters import roberts, sobel, scharr, prewitt\n",
    "\n",
    "#ROBERTS EDGE\n",
    "edge_roberts = roberts(img)\n",
    "edge_roberts1 = edge_roberts.reshape(-1)\n",
    "df['Roberts'] = edge_roberts1\n",
    "\n",
    "#SOBEL\n",
    "edge_sobel = sobel(img)\n",
    "edge_sobel1 = edge_sobel.reshape(-1)\n",
    "df['Sobel'] = edge_sobel1\n",
    "\n",
    "#SCHARR\n",
    "edge_scharr = scharr(img)\n",
    "edge_scharr1 = edge_scharr.reshape(-1)\n",
    "df['Scharr'] = edge_scharr1\n",
    "\n",
    "#PREWITT\n",
    "edge_prewitt = prewitt(img)\n",
    "edge_prewitt1 = edge_prewitt.reshape(-1)\n",
    "df['Prewitt'] = edge_prewitt1\n",
    "\n",
    "#GAUSSIAN with sigma=3\n",
    "from scipy import ndimage as nd\n",
    "gaussian_img = nd.gaussian_filter(img, sigma=3)\n",
    "gaussian_img1 = gaussian_img.reshape(-1)\n",
    "df['Gaussian s3'] = gaussian_img1\n",
    "\n",
    "#GAUSSIAN with sigma=7\n",
    "gaussian_img2 = nd.gaussian_filter(img, sigma=7)\n",
    "gaussian_img3 = gaussian_img2.reshape(-1)\n",
    "df['Gaussian s7'] = gaussian_img3\n",
    "\n",
    "#MEDIAN with sigma=3\n",
    "median_img = nd.median_filter(img, size=3)\n",
    "median_img1 = median_img.reshape(-1)\n",
    "df['Median s3'] = median_img1\n",
    "\n",
    "# #VARIANCE with size=3\n",
    "# variance_img = nd.generic_filter(img, np.var, size=3)\n",
    "# variance_img1 = variance_img.reshape(-1)\n",
    "# df['Variance s3'] = variance_img1  #Add column to original dataframe\n",
    "\n",
    "\n",
    "######################################                "
   ]
  },
  {
   "cell_type": "code",
   "execution_count": 5,
   "metadata": {},
   "outputs": [
    {
     "name": "stdout",
     "output_type": "stream",
     "text": [
      "   Original Image  Gabor1  Gabor2  Gabor3  Gabor4  Gabor5  Gabor6  Gabor7  \\\n",
      "0               0       0       0       0       0       0       0       0   \n",
      "1               0       0       0       0       0       0       0       0   \n",
      "2               0       0       0       0       0       0       0       0   \n",
      "3               0       0       0       0       0       0       0       0   \n",
      "4               0       0       0       0       0       0       0       0   \n",
      "\n",
      "   Gabor8  Gabor9  ...  Gabor32  Canny Edge  Roberts  Sobel  Scharr  Prewitt  \\\n",
      "0       0       0  ...        0           0      0.0    0.0     0.0      0.0   \n",
      "1       0       0  ...        0           0      0.0    0.0     0.0      0.0   \n",
      "2       0       0  ...        0           0      0.0    0.0     0.0      0.0   \n",
      "3       0       0  ...        0           0      0.0    0.0     0.0      0.0   \n",
      "4       0       0  ...        0           0      0.0    0.0     0.0      0.0   \n",
      "\n",
      "   Gaussian s3  Gaussian s7  Median s3  Labels  \n",
      "0            0            0          0      29  \n",
      "1            0            0          0      29  \n",
      "2            0            0          0      29  \n",
      "3            0            0          0      29  \n",
      "4            0            0          0      29  \n",
      "\n",
      "[5 rows x 42 columns]\n"
     ]
    }
   ],
   "source": [
    "#Now, add a column in the data frame for the Labels i.e, the ground truth\n",
    "\n",
    "#For this, we need to import the labeled image\n",
    "labeled_img = cv2.imread('images/Train_masks/Sandstone_Versa0000.tif')\n",
    "#Remember that you can load an image with partial labels \n",
    "#But, drop the rows with unlabeled data\n",
    "\n",
    "labeled_img = cv2.cvtColor(labeled_img, cv2.COLOR_BGR2GRAY)\n",
    "labeled_img1 = labeled_img.reshape(-1)\n",
    "df['Labels'] = labeled_img1\n",
    "\n",
    "print(df.head())\n",
    "\n",
    "#df.to_csv(\"Gabor.csv\")\n",
    "\n",
    "\n",
    "#########################################################"
   ]
  },
  {
   "cell_type": "markdown",
   "metadata": {},
   "source": [
    "## Step 2 : Training ML Model"
   ]
  },
  {
   "cell_type": "code",
   "execution_count": 6,
   "metadata": {},
   "outputs": [],
   "source": [
    "#Define the dependent variable that needs to be predicted (labels)\n",
    "Y = df[\"Labels\"].values\n",
    "\n",
    "#Define the independent variables\n",
    "X = df.drop(labels = [\"Labels\"], axis=1) \n",
    "\n",
    "#Split data into train and test to verify accuracy after fitting the model. \n",
    "from sklearn.model_selection import train_test_split\n",
    "X_train, X_test, y_train, y_test = train_test_split(X, Y, test_size=0.4, random_state=20)"
   ]
  },
  {
   "cell_type": "markdown",
   "metadata": {},
   "source": [
    "- `RandomForestRegressor` is for regression type of problems.\n",
    "\n",
    "- For classification we use `RandomForestClassifier`.\n",
    "\n",
    "Both yield similar results except for regressor the result is float and for classifier it is an integer, but here want the model to predict a label which is a distinct whole number hence we will be using classifier. "
   ]
  },
  {
   "cell_type": "code",
   "execution_count": 7,
   "metadata": {},
   "outputs": [],
   "source": [
    "# Import the model we are using\n",
    "from sklearn.ensemble import RandomForestClassifier\n",
    "\n",
    "# Instantiate model with n number of decision trees\n",
    "model = RandomForestClassifier(n_estimators = 100, random_state = 42)"
   ]
  },
  {
   "cell_type": "code",
   "execution_count": 8,
   "metadata": {},
   "outputs": [
    {
     "data": {
      "text/plain": [
       "RandomForestClassifier(bootstrap=True, class_weight=None, criterion='gini',\n",
       "                       max_depth=None, max_features='auto', max_leaf_nodes=None,\n",
       "                       min_impurity_decrease=0.0, min_impurity_split=None,\n",
       "                       min_samples_leaf=1, min_samples_split=2,\n",
       "                       min_weight_fraction_leaf=0.0, n_estimators=100,\n",
       "                       n_jobs=None, oob_score=False, random_state=42, verbose=0,\n",
       "                       warm_start=False)"
      ]
     },
     "execution_count": 8,
     "metadata": {},
     "output_type": "execute_result"
    }
   ],
   "source": [
    "# Train the model on training data\n",
    "model.fit(X_train, y_train)"
   ]
  },
  {
   "cell_type": "code",
   "execution_count": 9,
   "metadata": {},
   "outputs": [
    {
     "name": "stdout",
     "output_type": "stream",
     "text": [
      "Accuracy =  0.983170001127556\n"
     ]
    }
   ],
   "source": [
    "#validation\n",
    "prediction_test = model.predict(X_test)\n",
    "\n",
    "from sklearn import metrics\n",
    "print(\"Accuracy = \",metrics.accuracy_score(y_test,prediction_test))"
   ]
  },
  {
   "cell_type": "markdown",
   "metadata": {},
   "source": [
    "## Step 3 : Feature Ranking\n",
    "\n",
    "Lets figure out which features most contributed to our model so that you optimize your model by picking those features predictions who matters the most."
   ]
  },
  {
   "cell_type": "code",
   "execution_count": 11,
   "metadata": {},
   "outputs": [
    {
     "name": "stdout",
     "output_type": "stream",
     "text": [
      "[0.040018238907766825, 0.0, 0.0, 0.008173349397518306, 0.13151544855508143, 0.06168833850757912, 0.07832362825757766, 0.06309731012346302, 0.09552147361699077, 0.0, 0.0, 0.016492286181307037, 0.05625248505400773, 0.0, 0.0, 0.0, 0.0, 0.0, 0.0, 0.0, 0.000134956910386516, 0.01827893611797764, 0.021467106316799146, 0.03401207372986521, 0.0476783095626228, 0.0, 0.0, 3.420668637086212e-06, 6.3212248771177495e-06, 0.010026027328269429, 0.016292416892768013, 0.00955244851686133, 0.0030827654954678073, 0.0009983666889087632, 0.005991520462951064, 0.008853959029807568, 0.007321813117292988, 0.00928191002141279, 0.122165545824349, 0.035334227361438084, 0.09843531612801597]\n"
     ]
    }
   ],
   "source": [
    "importances = list(model.feature_importances_)\n",
    "print(importances)"
   ]
  },
  {
   "cell_type": "code",
   "execution_count": 12,
   "metadata": {},
   "outputs": [
    {
     "name": "stdout",
     "output_type": "stream",
     "text": [
      "Gabor4            0.131515\n",
      "Gaussian s3       0.122166\n",
      "Median s3         0.098435\n",
      "Gabor8            0.095521\n",
      "Gabor6            0.078324\n",
      "Gabor7            0.063097\n",
      "Gabor5            0.061688\n",
      "Gabor12           0.056252\n",
      "Gabor24           0.047678\n",
      "Original Image    0.040018\n",
      "Gaussian s7       0.035334\n",
      "Gabor23           0.034012\n",
      "Gabor22           0.021467\n",
      "Gabor21           0.018279\n",
      "Gabor11           0.016492\n",
      "Gabor30           0.016292\n",
      "Gabor29           0.010026\n",
      "Gabor31           0.009552\n",
      "Prewitt           0.009282\n",
      "Sobel             0.008854\n",
      "Gabor3            0.008173\n",
      "Scharr            0.007322\n",
      "Roberts           0.005992\n",
      "Gabor32           0.003083\n",
      "Canny Edge        0.000998\n",
      "Gabor20           0.000135\n",
      "Gabor28           0.000006\n",
      "Gabor27           0.000003\n",
      "Gabor14           0.000000\n",
      "Gabor13           0.000000\n",
      "Gabor16           0.000000\n",
      "Gabor17           0.000000\n",
      "Gabor10           0.000000\n",
      "Gabor9            0.000000\n",
      "Gabor18           0.000000\n",
      "Gabor19           0.000000\n",
      "Gabor25           0.000000\n",
      "Gabor26           0.000000\n",
      "Gabor2            0.000000\n",
      "Gabor1            0.000000\n",
      "Gabor15           0.000000\n",
      "dtype: float64\n"
     ]
    }
   ],
   "source": [
    "#Let us print them into a nice format.\n",
    "\n",
    "feature_list = list(X.columns)\n",
    "feature_imp = pd.Series(model.feature_importances_,index=feature_list).sort_values(ascending=False)\n",
    "print(feature_imp)"
   ]
  },
  {
   "cell_type": "markdown",
   "metadata": {},
   "source": [
    "We can therefore choose the top 5 or 6 feature extracters in our model.\n",
    "\n",
    "## Step 4 : Saving Training Model"
   ]
  },
  {
   "cell_type": "code",
   "execution_count": 13,
   "metadata": {},
   "outputs": [],
   "source": [
    "import pickle\n",
    "\n",
    "filename = 'sandstone_model'\n",
    "\n",
    "pickle.dump(model,open(filename,'wb')) \n",
    "#save the model in a file names as in filename in writable binary form "
   ]
  },
  {
   "cell_type": "code",
   "execution_count": 14,
   "metadata": {},
   "outputs": [],
   "source": [
    "#loading the model\n",
    "\n",
    "load_model = pickle.load(open(filename,'rb'))"
   ]
  },
  {
   "cell_type": "code",
   "execution_count": 15,
   "metadata": {},
   "outputs": [
    {
     "data": {
      "image/png": "[encoded data removed]",
      "text/plain": [
       "<Figure size 432x288 with 1 Axes>"
      ]
     },
     "metadata": {
      "needs_background": "light"
     },
     "output_type": "display_data"
    }
   ],
   "source": [
    "result = load_model.predict(X)\n",
    "\n",
    "segmented = result.reshape((img.shape))\n",
    "\n",
    "import matplotlib.pyplot as plt\n",
    "\n",
    "plt.imshow(segmented, cmap = 'jet')\n",
    "plt.imsave('segmented_rock.jpg',segmented,cmap = 'jet')"
   ]
  },
  {
   "cell_type": "markdown",
   "metadata": {},
   "source": [
    "---"
   ]
  },
  {
   "cell_type": "markdown",
   "metadata": {},
   "source": [
    "**SVM**\n",
    "\n",
    " - SVM will be slower than Random Forest. \n",
    "\n",
    "- Make sure to comment out Fetaure importances lines of code as it does not apply to SVM."
   ]
  },
  {
   "cell_type": "code",
   "execution_count": null,
   "metadata": {},
   "outputs": [],
   "source": [
    "#Train the Linear SVM to compare against Random Forest\n",
    "\n",
    "from sklearn.svm import LinearSVC\n",
    "model = LinearSVC(max_iter=100)  #Default of 100 is not converging"
   ]
  },
  {
   "cell_type": "code",
   "execution_count": null,
   "metadata": {},
   "outputs": [],
   "source": [
    "# Train the model on training data\n",
    "model.fit(X_train, y_train)\n",
    "\n",
    "# verify number of trees used. If not defined above. \n",
    "#print('Number of Trees used : ', model.n_estimators)\n",
    "\n",
    "#STEP 8: TESTING THE MODEL BY PREDICTING ON TEST DATA\n",
    "#AND CALCULATE THE ACCURACY SCORE\n",
    "#First test prediction on the training data itself. SHould be good. \n",
    "prediction_test_train = model.predict(X_train)\n",
    "\n",
    "#Test prediction on testing data. \n",
    "prediction_test = model.predict(X_test)\n",
    "\n",
    "#.predict just takes the .predict_proba output and changes everything \n",
    "#to 0 below a certain threshold (usually 0.5) respectively to 1 above that threshold.\n",
    "#In this example we have 4 labels, so the probabilities will for each label stored separately. \n",
    "# \n",
    "#prediction_prob_test = model.predict_proba(X_test)\n",
    "\n",
    "#Let us check the accuracy on test data\n",
    "from sklearn import metrics\n",
    "#Print the prediction accuracy\n",
    "\n",
    "#First check the accuracy on training data. This will be higher than test data prediction accuracy.\n",
    "print (\"Accuracy on training data = \", metrics.accuracy_score(y_train, prediction_test_train))\n",
    "#Check accuracy on test dataset. If this is too low compared to train it indicates overfitting on training data.\n",
    "print (\"Accuracy = \", metrics.accuracy_score(y_test, prediction_test))\n",
    "\n",
    "\n",
    "\n",
    "#This part commented out for SVM testing. Uncomment for random forest. \n",
    "#One amazing feature of Random forest is that it provides us info on feature importances\n",
    "# Get numerical feature importances\n",
    "#importances = list(model.feature_importances_)\n",
    "\n",
    "#Let us print them into a nice format.\n",
    "\n",
    "feature_list = list(X.columns)\n",
    "feature_imp = pd.Series(model.feature_importances_,index=feature_list).sort_values(ascending=False)\n",
    "print(feature_imp)\n",
    "\n",
    "\n",
    "#You can store the model for future use. In fact, this is how you do machine elarning\n",
    "#Train on training images, validate on test images and deploy the model on unknown images. \n",
    "\n",
    "import pickle\n",
    "\n",
    "#Save the trained model as pickle string to disk for future use\n",
    "filename = \"sandstone_model\"\n",
    "pickle.dump(model, open(filename, 'wb'))\n",
    "\n",
    "#To test the model on future datasets\n",
    "loaded_model = pickle.load(open(filename, 'rb'))\n",
    "result = loaded_model.predict(X)\n",
    "\n",
    "segmented = result.reshape((img.shape))\n",
    "\n",
    "from matplotlib import pyplot as plt\n",
    "plt.imshow(segmented, cmap ='jet')\n",
    "plt.imsave('segmented_rock_RF_100_estim.jpg', segmented, cmap ='jet')"
   ]
  }
 ],
 "metadata": {
  "kernelspec": {
   "display_name": "Python 3",
   "language": "python",
   "name": "python3"
  },
  "language_info": {
   "codemirror_mode": {
    "name": "ipython",
    "version": 3
   },
   "file_extension": ".py",
   "mimetype": "text/x-python",
   "name": "python",
   "nbconvert_exporter": "python",
   "pygments_lexer": "ipython3",
   "version": "3.6.9"
  }
 },
 "nbformat": 4,
 "nbformat_minor": 4
}
