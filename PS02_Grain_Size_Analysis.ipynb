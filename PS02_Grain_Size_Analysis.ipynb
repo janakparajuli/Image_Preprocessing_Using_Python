{
 "cells": [
  {
   "cell_type": "markdown",
   "metadata": {},
   "source": [
    "# Grain Size Analysis using Python\n",
    "\n",
    "In this case example we performs grain size distribution analysis and dumps results into a csv file.\n",
    "\n",
    "Step 1: Read image and define pixel size (if needed to convert results into microns, not pixels)\n",
    "\n",
    "\n",
    "Step 2: Denoising, if required and threshold image to separate grains from boundaries.\n",
    "\n",
    "\n",
    "Step 3: Clean up image, if needed (erode, etc.) and create a mask for grains\n",
    "\n",
    "\n",
    "Step 4: Label grains in the masked image\n",
    "\n",
    "\n",
    "Step 5: Measure the properties of each grain (object)\n",
    "\n",
    "\n",
    "Step 6: Output results into a csv file"
   ]
  },
  {
   "cell_type": "code",
   "execution_count": 1,
   "metadata": {},
   "outputs": [],
   "source": [
    "import cv2\n",
    "import numpy as np\n",
    "from matplotlib import pyplot as plt\n",
    "from scipy import ndimage\n",
    "from skimage import measure, color, io"
   ]
  },
  {
   "cell_type": "markdown",
   "metadata": {},
   "source": [
    "### Step 1 : Reading the Image"
   ]
  },
  {
   "cell_type": "code",
   "execution_count": 2,
   "metadata": {},
   "outputs": [],
   "source": [
    "img1 = cv2.imread(\"images/grains2.jpg\")\n",
    "img = cv2.cvtColor(img1,cv2.COLOR_BGR2GRAY)"
   ]
  },
  {
   "cell_type": "code",
   "execution_count": 3,
   "metadata": {},
   "outputs": [],
   "source": [
    "pixels_to_um = 0.5 # 1 pixel = 500 nm (got this from the metadata of original image)"
   ]
  },
  {
   "cell_type": "code",
   "execution_count": 9,
   "metadata": {},
   "outputs": [],
   "source": [
    "#cropped_img = img[0:450, :]   #Crop the scalebar region"
   ]
  },
  {
   "cell_type": "markdown",
   "metadata": {},
   "source": [
    "### Step 2 : Thresholding"
   ]
  },
  {
   "cell_type": "code",
   "execution_count": 11,
   "metadata": {},
   "outputs": [
    {
     "data": {
      "image/png": "[encoded data removed]",
      "text/plain": [
       "<Figure size 432x288 with 1 Axes>"
      ]
     },
     "metadata": {
      "needs_background": "light"
     },
     "output_type": "display_data"
    }
   ],
   "source": [
    "#Denoising, if required\n",
    "\n",
    "#No need for any denoising or smoothing as the image looks good.\n",
    "#Otherwise, try Median or NLM\n",
    "\n",
    "plt.hist(img.flat, bins=100, range=(0,255))\n",
    "plt.show()"
   ]
  },
  {
   "cell_type": "code",
   "execution_count": 4,
   "metadata": {},
   "outputs": [],
   "source": [
    "#Threshold image to binary using OTSU. ALl thresholded pixels will be set to 255\n",
    "ret1, thresh = cv2.threshold(img, 0, 255, cv2.THRESH_BINARY+cv2.THRESH_OTSU)"
   ]
  },
  {
   "cell_type": "code",
   "execution_count": 13,
   "metadata": {},
   "outputs": [
    {
     "name": "stdout",
     "output_type": "stream",
     "text": [
      "157.0\n"
     ]
    }
   ],
   "source": [
    "print(ret1)  #Gives 157 on grains2.jpg. OTSU determined this to be the best threshold. "
   ]
  },
  {
   "cell_type": "markdown",
   "metadata": {},
   "source": [
    "OTSU picked threshold value for this image is 157. If you look at the threshold it's also a 8 bit image it's not a binary image. It's an 8 bit image with values of 255 because we said all the threshold at pixel should have 255."
   ]
  },
  {
   "cell_type": "code",
   "execution_count": 6,
   "metadata": {},
   "outputs": [
    {
     "data": {
      "text/plain": [
       "dtype('uint8')"
      ]
     },
     "execution_count": 6,
     "metadata": {},
     "output_type": "execute_result"
    }
   ],
   "source": [
    "thresh.dtype"
   ]
  },
  {
   "cell_type": "markdown",
   "metadata": {},
   "source": [
    "So all the pixels corresponding to our grain will have a value of 255 and all the pixels corresponding to grain boundary will have a value of 0. So this is only a thresholded image, this is not a binary image thus we need to convert this thresholded image into a binary image."
   ]
  },
  {
   "cell_type": "code",
   "execution_count": 5,
   "metadata": {},
   "outputs": [],
   "source": [
    "cv2.imshow('Thresholded Image', thresh)\n",
    "cv2.waitKey(0)\n",
    "cv2.destroyAllWindows()"
   ]
  },
  {
   "cell_type": "markdown",
   "metadata": {},
   "source": [
    "After viewing the thresh image, we found that:\n",
    "- Some boundaries are ambiguous / faint.\n",
    "- Some pixles in the middle. \n",
    "- Need to perform morphological operations to enhance."
   ]
  },
  {
   "cell_type": "markdown",
   "metadata": {},
   "source": [
    "### Step 3 : Cleaning the thresholded Image"
   ]
  },
  {
   "cell_type": "code",
   "execution_count": 7,
   "metadata": {},
   "outputs": [],
   "source": [
    "#cleaning up the thresholded image\n",
    "kernel = np.ones((3,3),np.uint8)\n",
    "eroded = cv2.erode(thresh, kernel,iterations = 1)\n",
    "dilated = cv2.dilate(eroded,kernel,iterations = 1)"
   ]
  },
  {
   "cell_type": "markdown",
   "metadata": {},
   "source": [
    "Now, we need to apply threshold, meaning convert uint8 image to boolean (binary)."
   ]
  },
  {
   "cell_type": "code",
   "execution_count": 7,
   "metadata": {},
   "outputs": [
    {
     "data": {
      "text/plain": [
       "<matplotlib.image.AxesImage at 0x7ff7ab550710>"
      ]
     },
     "execution_count": 7,
     "metadata": {},
     "output_type": "execute_result"
    },
    {
     "data": {
      "image/png": "[encoded data removed]",
      "text/plain": [
       "<Figure size 432x288 with 1 Axes>"
      ]
     },
     "metadata": {
      "needs_background": "light"
     },
     "output_type": "display_data"
    }
   ],
   "source": [
    "#covertimg thresholded image to binary\n",
    "mask = dilated == 255 #Sets TRUE for all 255 valued pixels and FALSE for 0\n",
    "\n",
    "io.imshow(mask)"
   ]
  },
  {
   "cell_type": "markdown",
   "metadata": {},
   "source": [
    "**WE USED `io.imshow()` TO DISPLAY BINARY IMAGE RATHER THAN `cv2` as `cv2.imshow()` fails to display a binary type image.**"
   ]
  },
  {
   "cell_type": "code",
   "execution_count": 8,
   "metadata": {},
   "outputs": [
    {
     "data": {
      "text/plain": [
       "<matplotlib.image.AxesImage at 0x7ff7a57af048>"
      ]
     },
     "execution_count": 8,
     "metadata": {},
     "output_type": "execute_result"
    },
    {
     "data": {
      "image/png": "[encoded data removed]",
      "text/plain": [
       "<Figure size 432x288 with 1 Axes>"
      ]
     },
     "metadata": {
      "needs_background": "light"
     },
     "output_type": "display_data"
    }
   ],
   "source": [
    "#zooming into the image to see pixelated image and a clear picture of grain boundary \n",
    "io.imshow(mask[250:280,250:280])"
   ]
  },
  {
   "cell_type": "markdown",
   "metadata": {},
   "source": [
    "### Step 4 : Labelling\n",
    "\n",
    "Now we have well separated grains and background. Each grain is like an object. **label** is a unique ID number assigned to each object.\n",
    "\n",
    "`scipy.ndimage` has a function called `label` which labels the unconnected grains. Which means even if the grains are connected with a single pixel that it is cosidered as single object altogether.\n",
    "\n",
    "\n",
    "The '**structure**' parameter defines the connectivity for the labeling. This specifies when to consider a pixel to be connected to another nearby pixel, i.e. to be part of the same object.\n",
    "\n",
    "A **4** connectivity would be [[0,1,0],[1,1,1],[0,1,0]] if not defined explicitely in `ndimage.label()`\n",
    "\n",
    "Connectivity what that basically means is the diagonal the diagonal pixels will be included as part of the structure.\n",
    "\n",
    "*There is also 8 connectivity.*"
   ]
  },
  {
   "cell_type": "code",
   "execution_count": 14,
   "metadata": {},
   "outputs": [],
   "source": [
    "#labelling the grains in the mask image\n",
    "\n",
    "s = [[1,1,1],[1,1,1],[1,1,1]] #structure factor\n",
    "\n",
    "#label_im, nb_labels = ndimage.label(mask)\n",
    "labeled_mask, num_labels = ndimage.label(mask, structure=s)"
   ]
  },
  {
   "cell_type": "markdown",
   "metadata": {},
   "source": [
    "`ndimage.label()` function outputs a new image that contains a different integer label for each object, and also the number of objects found."
   ]
  },
  {
   "cell_type": "code",
   "execution_count": 17,
   "metadata": {},
   "outputs": [
    {
     "name": "stdout",
     "output_type": "stream",
     "text": [
      "296\n"
     ]
    }
   ],
   "source": [
    "print(num_labels)  #the number of grains in the image"
   ]
  },
  {
   "cell_type": "code",
   "execution_count": 19,
   "metadata": {},
   "outputs": [],
   "source": [
    "#Let's color the labels to see the effect\n",
    "img2 = color.label2rgb(labeled_mask, bg_label=0)"
   ]
  },
  {
   "cell_type": "markdown",
   "metadata": {},
   "source": [
    "`color.label2rgb()` assigns random colors in red, green and blue and it to the labels.\n",
    "\n",
    "\n",
    "`bg_label` assigns color to the background."
   ]
  },
  {
   "cell_type": "code",
   "execution_count": 20,
   "metadata": {},
   "outputs": [],
   "source": [
    "cv2.imshow('Colored Grains', img2)\n",
    "cv2.waitKey(0)\n",
    "cv2.destroyAllWindows()"
   ]
  },
  {
   "cell_type": "markdown",
   "metadata": {},
   "source": [
    "View just by making `mask=threshold` and also `mask = dilation` (after morph operations). Some grains are well separated after morph operations."
   ]
  },
  {
   "cell_type": "markdown",
   "metadata": {},
   "source": [
    "#Now each object had a unique number in the image. \n",
    "#Total number of labels found are...\n",
    "#print(num_labels) "
   ]
  },
  {
   "cell_type": "markdown",
   "metadata": {},
   "source": [
    "### Step 5: Measure the properties of each grain (object)\n",
    "\n",
    "`regionprops()` function in `skimage.measure` module calculates useful parameters for each object.\n",
    "\n",
    "**NOTE:** send in original image in `regionprops()` for Intensity measurements"
   ]
  },
  {
   "cell_type": "code",
   "execution_count": 22,
   "metadata": {},
   "outputs": [],
   "source": [
    "clusters = measure.regionprops(labeled_mask, img)  #send in original image for Intensity measurements"
   ]
  },
  {
   "cell_type": "markdown",
   "metadata": {},
   "source": [
    "The output of the function is a list of object properties. Lest test a few measurements."
   ]
  },
  {
   "cell_type": "code",
   "execution_count": 23,
   "metadata": {},
   "outputs": [
    {
     "name": "stdout",
     "output_type": "stream",
     "text": [
      "118.18376618407356\n"
     ]
    }
   ],
   "source": [
    "print(clusters[0].perimeter)"
   ]
  },
  {
   "cell_type": "markdown",
   "metadata": {},
   "source": [
    "We can also print various parameters for all objects i.e., all labeled regions"
   ]
  },
  {
   "cell_type": "code",
   "execution_count": 24,
   "metadata": {},
   "outputs": [
    {
     "name": "stdout",
     "output_type": "stream",
     "text": [
      "Label: 1 Area: 415\n",
      "Label: 2 Area: 187\n",
      "Label: 3 Area: 221\n",
      "Label: 4 Area: 12\n",
      "Label: 5 Area: 524\n",
      "Label: 6 Area: 327\n",
      "Label: 7 Area: 48\n",
      "Label: 8 Area: 212\n",
      "Label: 9 Area: 198\n",
      "Label: 10 Area: 1228\n",
      "Label: 11 Area: 1479\n",
      "Label: 12 Area: 221\n",
      "Label: 13 Area: 15\n",
      "Label: 14 Area: 84\n",
      "Label: 15 Area: 153\n",
      "Label: 16 Area: 1423\n",
      "Label: 17 Area: 69\n",
      "Label: 18 Area: 296\n",
      "Label: 19 Area: 172\n",
      "Label: 20 Area: 358\n",
      "Label: 21 Area: 293\n",
      "Label: 22 Area: 1304\n",
      "Label: 23 Area: 321\n",
      "Label: 24 Area: 123\n",
      "Label: 25 Area: 418\n",
      "Label: 26 Area: 847\n",
      "Label: 27 Area: 589\n",
      "Label: 28 Area: 18\n",
      "Label: 29 Area: 999\n",
      "Label: 30 Area: 345\n",
      "Label: 31 Area: 159\n",
      "Label: 32 Area: 1837\n",
      "Label: 33 Area: 22\n",
      "Label: 34 Area: 713\n",
      "Label: 35 Area: 62\n",
      "Label: 36 Area: 42\n",
      "Label: 37 Area: 35\n",
      "Label: 38 Area: 191\n",
      "Label: 39 Area: 845\n",
      "Label: 40 Area: 1114\n",
      "Label: 41 Area: 120\n",
      "Label: 42 Area: 278\n",
      "Label: 43 Area: 453\n",
      "Label: 44 Area: 40\n",
      "Label: 45 Area: 354\n",
      "Label: 46 Area: 216\n",
      "Label: 47 Area: 622\n",
      "Label: 48 Area: 48\n",
      "Label: 49 Area: 152\n",
      "Label: 50 Area: 212\n",
      "Label: 51 Area: 291\n",
      "Label: 52 Area: 234\n",
      "Label: 53 Area: 163\n",
      "Label: 54 Area: 1330\n",
      "Label: 55 Area: 235\n",
      "Label: 56 Area: 231\n",
      "Label: 57 Area: 516\n",
      "Label: 58 Area: 385\n",
      "Label: 59 Area: 26\n",
      "Label: 60 Area: 245\n",
      "Label: 61 Area: 1767\n",
      "Label: 62 Area: 2412\n",
      "Label: 63 Area: 423\n",
      "Label: 64 Area: 16\n",
      "Label: 65 Area: 418\n",
      "Label: 66 Area: 270\n",
      "Label: 67 Area: 44\n",
      "Label: 68 Area: 130\n",
      "Label: 69 Area: 1291\n",
      "Label: 70 Area: 32\n",
      "Label: 71 Area: 1392\n",
      "Label: 72 Area: 69\n",
      "Label: 73 Area: 22\n",
      "Label: 74 Area: 12\n",
      "Label: 75 Area: 31\n",
      "Label: 76 Area: 350\n",
      "Label: 77 Area: 351\n",
      "Label: 78 Area: 20\n",
      "Label: 79 Area: 2519\n",
      "Label: 80 Area: 292\n",
      "Label: 81 Area: 343\n",
      "Label: 82 Area: 483\n",
      "Label: 83 Area: 368\n",
      "Label: 84 Area: 99\n",
      "Label: 85 Area: 153\n",
      "Label: 86 Area: 527\n",
      "Label: 87 Area: 31\n",
      "Label: 88 Area: 1179\n",
      "Label: 89 Area: 332\n",
      "Label: 90 Area: 144\n",
      "Label: 91 Area: 653\n",
      "Label: 92 Area: 243\n",
      "Label: 93 Area: 522\n",
      "Label: 94 Area: 54\n",
      "Label: 95 Area: 148\n",
      "Label: 96 Area: 701\n",
      "Label: 97 Area: 255\n",
      "Label: 98 Area: 219\n",
      "Label: 99 Area: 666\n",
      "Label: 100 Area: 180\n",
      "Label: 101 Area: 828\n",
      "Label: 102 Area: 965\n",
      "Label: 103 Area: 118\n",
      "Label: 104 Area: 106\n",
      "Label: 105 Area: 83\n",
      "Label: 106 Area: 264\n",
      "Label: 107 Area: 411\n",
      "Label: 108 Area: 141\n",
      "Label: 109 Area: 220\n",
      "Label: 110 Area: 511\n",
      "Label: 111 Area: 213\n",
      "Label: 112 Area: 596\n",
      "Label: 113 Area: 122\n",
      "Label: 114 Area: 284\n",
      "Label: 115 Area: 603\n",
      "Label: 116 Area: 736\n",
      "Label: 117 Area: 39\n",
      "Label: 118 Area: 316\n",
      "Label: 119 Area: 114\n",
      "Label: 120 Area: 887\n",
      "Label: 121 Area: 18\n",
      "Label: 122 Area: 51\n",
      "Label: 123 Area: 281\n",
      "Label: 124 Area: 106\n",
      "Label: 125 Area: 699\n",
      "Label: 126 Area: 409\n",
      "Label: 127 Area: 1532\n",
      "Label: 128 Area: 36\n",
      "Label: 129 Area: 538\n",
      "Label: 130 Area: 181\n",
      "Label: 131 Area: 318\n",
      "Label: 132 Area: 1067\n",
      "Label: 133 Area: 391\n",
      "Label: 134 Area: 59\n",
      "Label: 135 Area: 84\n",
      "Label: 136 Area: 35\n",
      "Label: 137 Area: 611\n",
      "Label: 138 Area: 191\n",
      "Label: 139 Area: 573\n",
      "Label: 140 Area: 544\n",
      "Label: 141 Area: 1253\n",
      "Label: 142 Area: 145\n",
      "Label: 143 Area: 551\n",
      "Label: 144 Area: 897\n",
      "Label: 145 Area: 184\n",
      "Label: 146 Area: 638\n",
      "Label: 147 Area: 68\n",
      "Label: 148 Area: 150\n",
      "Label: 149 Area: 102\n",
      "Label: 150 Area: 202\n",
      "Label: 151 Area: 211\n",
      "Label: 152 Area: 1096\n",
      "Label: 153 Area: 1022\n",
      "Label: 154 Area: 947\n",
      "Label: 155 Area: 67\n",
      "Label: 156 Area: 116\n",
      "Label: 157 Area: 1095\n",
      "Label: 158 Area: 807\n",
      "Label: 159 Area: 150\n",
      "Label: 160 Area: 302\n",
      "Label: 161 Area: 95\n",
      "Label: 162 Area: 402\n",
      "Label: 163 Area: 723\n",
      "Label: 164 Area: 941\n",
      "Label: 165 Area: 253\n",
      "Label: 166 Area: 397\n",
      "Label: 167 Area: 984\n",
      "Label: 168 Area: 707\n",
      "Label: 169 Area: 1021\n",
      "Label: 170 Area: 28\n",
      "Label: 171 Area: 282\n",
      "Label: 172 Area: 779\n",
      "Label: 173 Area: 272\n",
      "Label: 174 Area: 339\n",
      "Label: 175 Area: 235\n",
      "Label: 176 Area: 488\n",
      "Label: 177 Area: 263\n",
      "Label: 178 Area: 412\n",
      "Label: 179 Area: 246\n",
      "Label: 180 Area: 784\n",
      "Label: 181 Area: 636\n",
      "Label: 182 Area: 1048\n",
      "Label: 183 Area: 1164\n",
      "Label: 184 Area: 578\n",
      "Label: 185 Area: 410\n",
      "Label: 186 Area: 62\n",
      "Label: 187 Area: 1256\n",
      "Label: 188 Area: 1708\n",
      "Label: 189 Area: 308\n",
      "Label: 190 Area: 264\n",
      "Label: 191 Area: 454\n",
      "Label: 192 Area: 603\n",
      "Label: 193 Area: 240\n",
      "Label: 194 Area: 262\n",
      "Label: 195 Area: 23\n",
      "Label: 196 Area: 163\n",
      "Label: 197 Area: 76\n",
      "Label: 198 Area: 554\n",
      "Label: 199 Area: 1377\n",
      "Label: 200 Area: 518\n",
      "Label: 201 Area: 1227\n",
      "Label: 202 Area: 25\n",
      "Label: 203 Area: 36\n",
      "Label: 204 Area: 250\n",
      "Label: 205 Area: 814\n",
      "Label: 206 Area: 202\n",
      "Label: 207 Area: 489\n",
      "Label: 208 Area: 129\n",
      "Label: 209 Area: 818\n",
      "Label: 210 Area: 316\n",
      "Label: 211 Area: 509\n",
      "Label: 212 Area: 24\n",
      "Label: 213 Area: 301\n",
      "Label: 214 Area: 90\n",
      "Label: 215 Area: 327\n",
      "Label: 216 Area: 999\n",
      "Label: 217 Area: 224\n",
      "Label: 218 Area: 453\n",
      "Label: 219 Area: 1199\n",
      "Label: 220 Area: 931\n",
      "Label: 221 Area: 18\n",
      "Label: 222 Area: 317\n",
      "Label: 223 Area: 18\n",
      "Label: 224 Area: 22\n",
      "Label: 225 Area: 498\n",
      "Label: 226 Area: 1277\n",
      "Label: 227 Area: 15\n",
      "Label: 228 Area: 157\n",
      "Label: 229 Area: 141\n",
      "Label: 230 Area: 508\n",
      "Label: 231 Area: 62\n",
      "Label: 232 Area: 336\n",
      "Label: 233 Area: 159\n",
      "Label: 234 Area: 110\n",
      "Label: 235 Area: 962\n",
      "Label: 236 Area: 57\n",
      "Label: 237 Area: 30\n",
      "Label: 238 Area: 296\n",
      "Label: 239 Area: 93\n",
      "Label: 240 Area: 44\n",
      "Label: 241 Area: 621\n",
      "Label: 242 Area: 660\n",
      "Label: 243 Area: 176\n",
      "Label: 244 Area: 371\n",
      "Label: 245 Area: 984\n",
      "Label: 246 Area: 528\n",
      "Label: 247 Area: 45\n",
      "Label: 248 Area: 117\n",
      "Label: 249 Area: 281\n",
      "Label: 250 Area: 9\n",
      "Label: 251 Area: 577\n",
      "Label: 252 Area: 65\n",
      "Label: 253 Area: 53\n",
      "Label: 254 Area: 362\n",
      "Label: 255 Area: 453\n",
      "Label: 256 Area: 571\n",
      "Label: 257 Area: 355\n",
      "Label: 258 Area: 51\n",
      "Label: 259 Area: 174\n",
      "Label: 260 Area: 160\n",
      "Label: 261 Area: 60\n",
      "Label: 262 Area: 187\n",
      "Label: 263 Area: 93\n",
      "Label: 264 Area: 135\n",
      "Label: 265 Area: 70\n",
      "Label: 266 Area: 1019\n",
      "Label: 267 Area: 109\n",
      "Label: 268 Area: 53\n",
      "Label: 269 Area: 816\n",
      "Label: 270 Area: 743\n",
      "Label: 271 Area: 186\n",
      "Label: 272 Area: 338\n",
      "Label: 273 Area: 12\n",
      "Label: 274 Area: 39\n",
      "Label: 275 Area: 229\n",
      "Label: 276 Area: 37\n",
      "Label: 277 Area: 407\n",
      "Label: 278 Area: 455\n",
      "Label: 279 Area: 565\n",
      "Label: 280 Area: 46\n",
      "Label: 281 Area: 115\n",
      "Label: 282 Area: 397\n",
      "Label: 283 Area: 196\n",
      "Label: 284 Area: 462\n",
      "Label: 285 Area: 165\n",
      "Label: 286 Area: 146\n",
      "Label: 287 Area: 274\n",
      "Label: 288 Area: 89\n",
      "Label: 289 Area: 84\n",
      "Label: 290 Area: 234\n",
      "Label: 291 Area: 56\n",
      "Label: 292 Area: 55\n",
      "Label: 293 Area: 31\n",
      "Label: 294 Area: 28\n",
      "Label: 295 Area: 35\n",
      "Label: 296 Area: 34\n"
     ]
    }
   ],
   "source": [
    "for prop in clusters:\n",
    "   print('Label: {} Area: {}'.format(prop.label, prop.area))"
   ]
  },
  {
   "cell_type": "markdown",
   "metadata": {},
   "source": [
    "### Step 6: Output results into a csv file   "
   ]
  },
  {
   "cell_type": "code",
   "execution_count": 25,
   "metadata": {},
   "outputs": [],
   "source": [
    "#Best way is to output all properties to a csv file\n",
    "    \n",
    "propList = ['Area',\n",
    "            'equivalent_diameter', #Added... verify if it works\n",
    "            'orientation', #Added, verify if it works. Angle btwn x-axis and major axis.\n",
    "            'MajorAxisLength',\n",
    "            'MinorAxisLength',\n",
    "            'Perimeter',\n",
    "            'MinIntensity',\n",
    "            'MeanIntensity',\n",
    "            'MaxIntensity']    \n",
    "    \n",
    "\n",
    "output_file = open('image_measurements.csv', 'w')\n",
    "output_file.write(',' + \",\".join(propList) + '\\n') #join strings in array by commas, leave first cell blank\n",
    "#First cell blank to leave room for header (column names)\n",
    "\n",
    "for cluster_props in clusters:\n",
    "    #output cluster properties to the excel file\n",
    "    output_file.write(str(cluster_props['Label']))\n",
    "    for i,prop in enumerate(propList):\n",
    "        if(prop == 'Area'): \n",
    "            to_print = cluster_props[prop]*pixels_to_um**2   #Convert pixel square to um square\n",
    "        elif(prop == 'orientation'): \n",
    "            to_print = cluster_props[prop]*57.2958  #Convert to degrees from radians\n",
    "        elif(prop.find('Intensity') < 0):          # Any prop without Intensity in its name\n",
    "            to_print = cluster_props[prop]*pixels_to_um\n",
    "        else: \n",
    "            to_print = cluster_props[prop]     #Reamining props, basically the ones with Intensity in its name\n",
    "        output_file.write(',' + str(to_print))\n",
    "    output_file.write('\\n')\n",
    "output_file.close()   #Closes the file, otherwise it would be read only. "
   ]
  }
 ],
 "metadata": {
  "kernelspec": {
   "display_name": "Python 3",
   "language": "python",
   "name": "python3"
  },
  "language_info": {
   "codemirror_mode": {
    "name": "ipython",
    "version": 3
   },
   "file_extension": ".py",
   "mimetype": "text/x-python",
   "name": "python",
   "nbconvert_exporter": "python",
   "pygments_lexer": "ipython3",
   "version": "3.6.9"
  }
 },
 "nbformat": 4,
 "nbformat_minor": 4
}
