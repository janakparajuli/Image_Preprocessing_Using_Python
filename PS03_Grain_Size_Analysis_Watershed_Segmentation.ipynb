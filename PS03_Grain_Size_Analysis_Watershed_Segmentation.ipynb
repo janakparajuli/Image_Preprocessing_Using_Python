{
 "cells": [
  {
   "cell_type": "markdown",
   "metadata": {},
   "source": [
    "# Grain Size Analysis using Watershed Segmentation\n",
    "\n",
    "Wateshed Segmentation explained as in OpenCV Documentation: \n",
    "\n",
    "https://opencv-python-tutroals.readthedocs.io/en/latest/py_tutorials/py_imgproc/py_watershed/py_watershed.html\n",
    "\n",
    "This code performs grain size distribution analysis and dumps results into a csv file.\n",
    "It uses watershed segmentation for better segmentation.\n",
    "Compare results to regular segmentation. "
   ]
  },
  {
   "cell_type": "code",
   "execution_count": 1,
   "metadata": {},
   "outputs": [],
   "source": [
    "import cv2\n",
    "import numpy as np\n",
    "from matplotlib import pyplot as plt\n",
    "from scipy import ndimage\n",
    "from skimage import measure, color, io"
   ]
  },
  {
   "cell_type": "code",
   "execution_count": 2,
   "metadata": {},
   "outputs": [],
   "source": [
    "img1 = cv2.imread(\"images/grains2.jpg\")\n",
    "img = cv2.cvtColor(img1,cv2.COLOR_BGR2GRAY)"
   ]
  },
  {
   "cell_type": "code",
   "execution_count": 3,
   "metadata": {},
   "outputs": [],
   "source": [
    "pixels_to_um = 0.5 # 1 pixel = 500 nm (got this from the metadata of original image)"
   ]
  },
  {
   "cell_type": "code",
   "execution_count": 4,
   "metadata": {},
   "outputs": [],
   "source": [
    "#Threshold image to binary using OTSU. ALl thresholded pixels will be set to 255\n",
    "ret1, thresh = cv2.threshold(img, 0, 255, cv2.THRESH_BINARY+cv2.THRESH_OTSU)"
   ]
  },
  {
   "cell_type": "code",
   "execution_count": 5,
   "metadata": {},
   "outputs": [],
   "source": [
    "# Morphological operations to remove small noise - opening\n",
    "#To remove holes we can use closing\n",
    "kernel = np.ones((3,3),np.uint8)\n",
    "opening = cv2.morphologyEx(thresh,cv2.MORPH_OPEN,kernel, iterations = 2)\n",
    "\n",
    "cv2.imshow(\"Opening Image\",opening)\n",
    "cv2.waitKey(0)\n",
    "cv2.destroyAllWindows()"
   ]
  },
  {
   "cell_type": "markdown",
   "metadata": {},
   "source": [
    "Once we have the thresholded image the next step is to identify the pixels that cross definitely correspond to the background and definitely correspond to the foreground.\n",
    "\n",
    "- Now we know that the regions at the center of cells is for sure cells. The region far away is background.\n",
    "\n",
    "- We need to extract sure regions. For that we can use erode. But we have cells touching, so erode alone will not work. \n",
    "\n",
    "- To separate touching objects, the best approach would be distance transform and then thresholding.\n",
    "\n",
    "\n",
    "Let us start by **identifying sure background** area because it's easy to identify.\n",
    "\n",
    "- Dilating pixes a few times increases cell boundary to background. \n",
    "- This way whatever is remaining for sure will be background. \n",
    "- The area in between sure background and foreground is our ambiguous area. **Watershed** should find this area for us. "
   ]
  },
  {
   "cell_type": "code",
   "execution_count": 6,
   "metadata": {},
   "outputs": [],
   "source": [
    "sure_bg = cv2.dilate(opening,kernel,iterations=2)\n",
    "\n",
    "\n",
    "cv2.imshow(\"Sure Background\",sure_bg)\n",
    "cv2.waitKey(0)\n",
    "cv2.destroyAllWindows()"
   ]
  },
  {
   "cell_type": "markdown",
   "metadata": {},
   "source": [
    "**Finding sure foreground** area using distance transform and then thresholding \n",
    "\n",
    "- Intensities of the points inside the foreground regions are changed to distance their respective distances from the closest 0 value boundary. See the documentation for more details:\n",
    "\n",
    "https://www.tutorialspoint.com/opencv/opencv_distance_transformation.htm\n",
    "\n",
    "In summary what distance operation does is it actually maps the distance from a given pixel to the nearest or to the closest boundary. When we say boundary i.e., to the closest 0 value. So if you have a very large grain then the center of that grain is very far away from the grain boundary, so distance map wise the center of the grain will have a very large value. If the edge of the grain is very close to the edge of the grain the value is a very small number because the distance to the black or 0 pixel is very small."
   ]
  },
  {
   "cell_type": "code",
   "execution_count": 7,
   "metadata": {},
   "outputs": [],
   "source": [
    "dist_transform = cv2.distanceTransform(opening,cv2.DIST_L2,3)  #3 is the mask size\n",
    "\n",
    "cv2.imshow(\"Distance Transformed\",dist_transform)\n",
    "cv2.waitKey(0)\n",
    "cv2.destroyAllWindows()"
   ]
  },
  {
   "cell_type": "markdown",
   "metadata": {},
   "source": [
    "**Let us threshold the dist transform by 20% its max value.**\n",
    "\n",
    "Basically it means stay close to the center of the grain and ignore the pixels that are very close to the grain boundary"
   ]
  },
  {
   "cell_type": "code",
   "execution_count": 8,
   "metadata": {},
   "outputs": [],
   "source": [
    "ret2, sure_fg = cv2.threshold(dist_transform,0.2*dist_transform.max(),255,0)"
   ]
  },
  {
   "cell_type": "markdown",
   "metadata": {},
   "source": [
    "we are taking 20% and we are saying okay that's where my threshold is and replace all the thresholded pixel by a value of 255. "
   ]
  },
  {
   "cell_type": "code",
   "execution_count": 9,
   "metadata": {},
   "outputs": [],
   "source": [
    "sure_fg = np.uint8(sure_fg) #sure foreground\n",
    "\n",
    "cv2.imshow(\"Sure Foreground\",sure_fg)\n",
    "cv2.waitKey(0)\n",
    "cv2.destroyAllWindows()"
   ]
  },
  {
   "cell_type": "markdown",
   "metadata": {},
   "source": [
    "Also defined what my unknown pixels. \n",
    "\n",
    "- Unknown ambiguous region is nothing but bkground - foreground"
   ]
  },
  {
   "cell_type": "code",
   "execution_count": 10,
   "metadata": {},
   "outputs": [],
   "source": [
    "sure_fg = np.uint8(sure_fg)\n",
    "\n",
    "unknown = cv2.subtract(sure_bg,sure_fg)\n",
    "\n",
    "cv2.imshow(\"Unknown Region\",unknown)\n",
    "cv2.waitKey(0)\n",
    "cv2.destroyAllWindows()"
   ]
  },
  {
   "cell_type": "markdown",
   "metadata": {},
   "source": [
    "Now we create a marker and label the regions inside. \n",
    "\n",
    "- For sure regions, both foreground and background will be labeled with positive numbers.\n",
    "- Unknown regions will be labeled 0. \n",
    "\n",
    "`cv2.connectedComponents()` as the name suggests looks at all the connected components and then separate them. It's very important for us to do this pre-processing step because if we have two grains that are  connecting these two then that's considered as one entity.  "
   ]
  },
  {
   "cell_type": "code",
   "execution_count": 11,
   "metadata": {},
   "outputs": [],
   "source": [
    "# For markers let us use ConnectedComponents. \n",
    "ret3, markers = cv2.connectedComponents(sure_fg)"
   ]
  },
  {
   "cell_type": "markdown",
   "metadata": {},
   "source": [
    "One problem is that the entire background pixels is given value 0 because by default the markers have the value 0. This means that our background is 0 and our unknown region too, so watershed will consider this region as unknown. We don't want our markers to be mixed with our background.\n",
    "\n",
    "So let us add 10 to all labels so that sure background is not 0, but 10"
   ]
  },
  {
   "cell_type": "code",
   "execution_count": 12,
   "metadata": {},
   "outputs": [
    {
     "data": {
      "text/plain": [
       "<matplotlib.image.AxesImage at 0x7f6e04adfba8>"
      ]
     },
     "execution_count": 12,
     "metadata": {},
     "output_type": "execute_result"
    },
    {
     "data": {
      "image/png": "[encoded data removed]",
      "text/plain": [
       "<Figure size 432x288 with 1 Axes>"
      ]
     },
     "metadata": {
      "needs_background": "light"
     },
     "output_type": "display_data"
    }
   ],
   "source": [
    "markers = markers+10\n",
    "\n",
    "# Now, mark the region of unknown with zero\n",
    "markers[unknown==255] = 0\n",
    "\n",
    "plt.imshow(markers, cmap='jet')   #Look at the 3 distinct regions."
   ]
  },
  {
   "cell_type": "code",
   "execution_count": 13,
   "metadata": {},
   "outputs": [],
   "source": [
    "#Now we are ready for watershed filling. \n",
    "markers = cv2.watershed(img1,markers)"
   ]
  },
  {
   "cell_type": "markdown",
   "metadata": {},
   "source": [
    "In Watershed Algorithm **the boundary region will be marked -1**\n",
    "\n",
    "https://docs.opencv.org/3.3.1/d7/d1b/group__imgproc__misc.html#ga3267243e4d3f95165d55a618c65ac6e1"
   ]
  },
  {
   "cell_type": "code",
   "execution_count": 14,
   "metadata": {},
   "outputs": [],
   "source": [
    "#Let us color boundaries in yellow. OpenCv assigns boundaries to -1 after watershed.\n",
    "img1[markers == -1] = [0,255,255]  \n",
    "\n",
    "img2 = color.label2rgb(markers, bg_label=0)\n",
    "\n",
    "cv2.imshow('Overlay on original image', img1)\n",
    "cv2.imshow('Colored Grains', img2)\n",
    "cv2.waitKey(0)\n",
    "cv2.destroyAllWindows()"
   ]
  },
  {
   "cell_type": "markdown",
   "metadata": {},
   "source": [
    "Now, time to extract properties of detected cells\n",
    "\n",
    "`regionprops()` function in `skimage.measure` module calculates useful parameters for each object."
   ]
  },
  {
   "cell_type": "code",
   "execution_count": null,
   "metadata": {},
   "outputs": [],
   "source": [
    "regions = measure.regionprops(markers, intensity_image=img)\n",
    "\n",
    "#Can print various parameters for all objects\n",
    "#for prop in regions:\n",
    "#    print('Label: {} Area: {}'.format(prop.label, prop.area))\n",
    "\n",
    "#Best way is to output all properties to a csv file\n",
    "#Let us pick which ones we want to export. \n",
    "\n",
    "propList = ['Area',\n",
    "            'equivalent_diameter', #Added... verify if it works\n",
    "            'orientation', #Added, verify if it works. Angle btwn x-axis and major axis.\n",
    "            'MajorAxisLength',\n",
    "            'MinorAxisLength',\n",
    "            'Perimeter',\n",
    "            'MinIntensity',\n",
    "            'MeanIntensity',\n",
    "            'MaxIntensity']    \n",
    "    \n",
    "\n",
    "output_file = open('image_measurements.csv', 'w')\n",
    "output_file.write('Grain #' + \",\" + \",\" + \",\".join(propList) + '\\n') #join strings in array by commas, \n",
    "#First cell to print grain number\n",
    "#Second cell blank as we will not print Label column\n",
    "\n",
    "grain_number = 1\n",
    "for region_props in regions:\n",
    "    output_file.write(str(grain_number) + ',')\n",
    "    #output cluster properties to the excel file\n",
    "#    output_file.write(str(region_props['Label']))\n",
    "    for i,prop in enumerate(propList):\n",
    "        if(prop == 'Area'): \n",
    "            to_print = region_props[prop]*pixels_to_um**2   #Convert pixel square to um square\n",
    "        elif(prop == 'orientation'): \n",
    "            to_print = region_props[prop]*57.2958  #Convert to degrees from radians\n",
    "        elif(prop.find('Intensity') < 0):          # Any prop without Intensity in its name\n",
    "            to_print = region_props[prop]*pixels_to_um\n",
    "        else: \n",
    "            to_print = region_props[prop]     #Reamining props, basically the ones with Intensity in its name\n",
    "        output_file.write(',' + str(to_print))\n",
    "    output_file.write('\\n')\n",
    "    grain_number += 1\n",
    "    \n",
    "output_file.close()   #Closes the file, otherwise it would be read only. "
   ]
  },
  {
   "cell_type": "code",
   "execution_count": null,
   "metadata": {},
   "outputs": [],
   "source": [
    "#print(dist_transform.max()) gives about 21.9\n",
    "\n",
    "\n",
    "#0.2* max value seems to separate the cells well.\n",
    "#High value like 0.5 will not recognize some grain boundaries."
   ]
  },
  {
   "cell_type": "code",
   "execution_count": null,
   "metadata": {},
   "outputs": [],
   "source": [
    "# Extra\n",
    "\n",
    "from skimage.segmentation import clear_border\n",
    "opening = clear_border(opening) # Remove edge touching grains\n",
    "# Place this right before sure_bg"
   ]
  }
 ],
 "metadata": {
  "kernelspec": {
   "display_name": "Python 3",
   "language": "python",
   "name": "python3"
  },
  "language_info": {
   "codemirror_mode": {
    "name": "ipython",
    "version": 3
   },
   "file_extension": ".py",
   "mimetype": "text/x-python",
   "name": "python",
   "nbconvert_exporter": "python",
   "pygments_lexer": "ipython3",
   "version": "3.6.9"
  }
 },
 "nbformat": 4,
 "nbformat_minor": 4
}
