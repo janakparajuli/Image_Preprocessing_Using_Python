{
 "cells": [
  {
   "cell_type": "markdown",
   "metadata": {},
   "source": [
    "This code performs cell counting and size distribution analysis and dumps results into a csv file.\n",
    "It uses watershed segmentationfor better segmentation.\n",
    "Similar to grain analysis except here we segment cells. "
   ]
  },
  {
   "cell_type": "code",
   "execution_count": 1,
   "metadata": {},
   "outputs": [],
   "source": [
    "import cv2\n",
    "import numpy as np\n",
    "from matplotlib import pyplot as plt\n",
    "from scipy import ndimage\n",
    "from skimage import measure, color, io"
   ]
  },
  {
   "cell_type": "code",
   "execution_count": 2,
   "metadata": {},
   "outputs": [],
   "source": [
    "img = cv2.imread(\"images/Osteosarcoma_01.tif\")\n",
    "#Extract only blue channel as DAPI / nuclear (blue) staining is the best\n",
    "#channel to perform cell count.\n",
    "cells=img[:,:,0]  #Blue channel. Image equivalent to grey image."
   ]
  },
  {
   "cell_type": "code",
   "execution_count": 3,
   "metadata": {},
   "outputs": [],
   "source": [
    "pixels_to_um = 0.454 # 1 pixel = 454 nm (got this from the metadata of original image)"
   ]
  },
  {
   "cell_type": "code",
   "execution_count": 4,
   "metadata": {},
   "outputs": [],
   "source": [
    "#Threshold image to binary using OTSU. ALl thresholded pixels will be set to 255\n",
    "ret1, thresh = cv2.threshold(cells, 0, 255, cv2.THRESH_BINARY+cv2.THRESH_OTSU)"
   ]
  },
  {
   "cell_type": "code",
   "execution_count": 5,
   "metadata": {},
   "outputs": [],
   "source": [
    "# Morphological operations to remove small noise - opening\n",
    "#To remove holes we can use closing\n",
    "kernel = np.ones((3,3),np.uint8)\n",
    "opening = cv2.morphologyEx(thresh,cv2.MORPH_OPEN,kernel, iterations = 2)\n",
    "\n",
    "from skimage.segmentation import clear_border\n",
    "opening = clear_border(opening) #Remove edge touching grains\n",
    "#Check the total regions found before and after applying this. "
   ]
  },
  {
   "cell_type": "code",
   "execution_count": null,
   "metadata": {},
   "outputs": [],
   "source": [
    "#Now we know that the regions at the center of cells is for sure cells\n",
    "#The region far away is background.\n",
    "#We need to extract sure regions. For that we can use erode. \n",
    "#But we have cells touching, so erode alone will not work. \n",
    "#To separate touching objects, the best approach would be distance transform and then thresholding.\n",
    "\n",
    "# let us start by identifying sure background area\n",
    "# dilating pixes a few times increases cell boundary to background. \n",
    "# This way whatever is remaining for sure will be background. \n",
    "#The area in between sure background and foreground is our ambiguous area. \n",
    "#Watershed should find this area for us. "
   ]
  },
  {
   "cell_type": "code",
   "execution_count": 6,
   "metadata": {},
   "outputs": [],
   "source": [
    "sure_bg = cv2.dilate(opening,kernel,iterations=10)"
   ]
  },
  {
   "cell_type": "code",
   "execution_count": null,
   "metadata": {},
   "outputs": [],
   "source": [
    "# Finding sure foreground area using distance transform and thresholding\n",
    "#intensities of the points inside the foreground regions are changed to \n",
    "#distance their respective distances from the closest 0 value (boundary).\n",
    "#https://www.tutorialspoint.com/opencv/opencv_distance_transformation.htm"
   ]
  },
  {
   "cell_type": "code",
   "execution_count": 7,
   "metadata": {},
   "outputs": [],
   "source": [
    "dist_transform = cv2.distanceTransform(opening,cv2.DIST_L2,5)"
   ]
  },
  {
   "cell_type": "code",
   "execution_count": 8,
   "metadata": {},
   "outputs": [],
   "source": [
    "#Let us threshold the dist transform by starting at 1/2 its max value.\n",
    "#print(dist_transform.max()) gives about 21.9\n",
    "ret2, sure_fg = cv2.threshold(dist_transform,0.5*dist_transform.max(),255,0)\n",
    "\n",
    "#Later you realize that 0.25* max value will not separate the cells well.\n",
    "#High value like 0.7 will not recognize some cells. 0.5 seems to be a good compromize"
   ]
  },
  {
   "cell_type": "code",
   "execution_count": 9,
   "metadata": {},
   "outputs": [],
   "source": [
    "# Unknown ambiguous region is nothing but bkground - foreground\n",
    "sure_fg = np.uint8(sure_fg)\n",
    "unknown = cv2.subtract(sure_bg,sure_fg)"
   ]
  },
  {
   "cell_type": "code",
   "execution_count": 10,
   "metadata": {},
   "outputs": [],
   "source": [
    "#Now we create a marker and label the regions inside. \n",
    "# For sure regions, both foreground and background will be labeled with positive numbers.\n",
    "# Unknown regions will be labeled 0. \n",
    "#For markers let us use ConnectedComponents. \n",
    "ret3, markers = cv2.connectedComponents(sure_fg)"
   ]
  },
  {
   "cell_type": "code",
   "execution_count": 11,
   "metadata": {},
   "outputs": [],
   "source": [
    "#One problem rightnow is that the entire background pixels is given value 0.\n",
    "#This means watershed considers this region as unknown.\n",
    "#So let us add 10 to all labels so that sure background is not 0, but 10\n",
    "markers = markers+10"
   ]
  },
  {
   "cell_type": "code",
   "execution_count": 12,
   "metadata": {},
   "outputs": [
    {
     "data": {
      "text/plain": [
       "<matplotlib.image.AxesImage at 0x7f66b42dd390>"
      ]
     },
     "execution_count": 12,
     "metadata": {},
     "output_type": "execute_result"
    },
    {
     "data": {
      "image/png": "[encoded data removed]",
      "text/plain": [
       "<Figure size 432x288 with 1 Axes>"
      ]
     },
     "metadata": {
      "needs_background": "light"
     },
     "output_type": "display_data"
    }
   ],
   "source": [
    "# Now, mark the region of unknown with zero\n",
    "markers[unknown==255] = 0\n",
    "plt.imshow(markers, cmap='jet')   #Look at the 3 distinct regions."
   ]
  },
  {
   "cell_type": "code",
   "execution_count": 13,
   "metadata": {},
   "outputs": [],
   "source": [
    "#Now we are ready for watershed filling. \n",
    "markers = cv2.watershed(img,markers)\n",
    "#The boundary region will be marked -1\n",
    "#https://docs.opencv.org/3.3.1/d7/d1b/group__imgproc__misc.html#ga3267243e4d3f95165d55a618c65ac6e1"
   ]
  },
  {
   "cell_type": "code",
   "execution_count": 14,
   "metadata": {},
   "outputs": [
    {
     "data": {
      "text/plain": [
       "48"
      ]
     },
     "execution_count": 14,
     "metadata": {},
     "output_type": "execute_result"
    }
   ],
   "source": [
    "#Let us color boundaries in yellow. \n",
    "img[markers == -1] = [0,255,255]  \n",
    "\n",
    "img2 = color.label2rgb(markers, bg_label=0)\n",
    "\n",
    "# cv2.imshow('Overlay on original image', img)\n",
    "# cv2.imshow('Colored Grains', img2)\n",
    "# cv2.waitKey(0)"
   ]
  },
  {
   "cell_type": "code",
   "execution_count": null,
   "metadata": {},
   "outputs": [],
   "source": [
    "#Now, time to extract properties of detected cells\n",
    "# regionprops function in skimage measure module calculates useful parameters for each object.\n",
    "regions = measure.regionprops(markers, intensity_image=cells)\n",
    "\n",
    "#Can print various parameters for all objects\n",
    "for prop in regions:\n",
    "    print('Label: {} Area: {}'.format(prop.label, prop.area))\n",
    "\n",
    "#Best way is to output all properties to a csv file\n",
    "#Let us pick which ones we want to export. \n",
    "\n",
    "propList = ['Area',\n",
    "            'equivalent_diameter', #Added... verify if it works\n",
    "            'orientation', #Added, verify if it works. Angle btwn x-axis and major axis.\n",
    "            'MajorAxisLength',\n",
    "            'MinorAxisLength',\n",
    "            'Perimeter',\n",
    "            'MinIntensity',\n",
    "            'MeanIntensity',\n",
    "            'MaxIntensity']    \n",
    "    \n",
    "\n",
    "output_file = open('cell_measurements.csv', 'w')\n",
    "output_file.write(',' + \",\".join(propList) + '\\n') #join strings in array by commas, leave first cell blank\n",
    "#First cell blank to leave room for header (column names)\n",
    "\n",
    "for region_props in regions:\n",
    "    #output cluster properties to the excel file\n",
    "    output_file.write(str(region_props['Label']))\n",
    "    for i,prop in enumerate(propList):\n",
    "        if(prop == 'Area'): \n",
    "            to_print = region_props[prop]*pixels_to_um**2   #Convert pixel square to um square\n",
    "        elif(prop == 'orientation'): \n",
    "            to_print = region_props[prop]*57.2958  #Convert to degrees from radians\n",
    "        elif(prop.find('Intensity') < 0):          # Any prop without Intensity in its name\n",
    "            to_print = region_props[prop]*pixels_to_um\n",
    "        else: \n",
    "            to_print = region_props[prop]     #Reamining props, basically the ones with Intensity in its name\n",
    "        output_file.write(',' + str(to_print))\n",
    "    output_file.write('\\n')"
   ]
  }
 ],
 "metadata": {
  "kernelspec": {
   "display_name": "Python 3",
   "language": "python",
   "name": "python3"
  },
  "language_info": {
   "codemirror_mode": {
    "name": "ipython",
    "version": 3
   },
   "file_extension": ".py",
   "mimetype": "text/x-python",
   "name": "python",
   "nbconvert_exporter": "python",
   "pygments_lexer": "ipython3",
   "version": "3.6.9"
  }
 },
 "nbformat": 4,
 "nbformat_minor": 4
}
